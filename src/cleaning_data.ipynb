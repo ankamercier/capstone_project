{
 "cells": [
  {
   "cell_type": "markdown",
   "metadata": {},
   "source": [
    "#### Step 1: Initial data inspection\n",
    "\n",
    "- Load dataset into a dataframe with Pandas\n",
    "- Understand the structure of each dataset, including columns and data types\n",
    "- Identify data types and missing values (noted potential mixed data types)"
   ]
  },
  {
   "cell_type": "code",
   "execution_count": 1,
   "metadata": {},
   "outputs": [],
   "source": [
    "# import libraries\n",
    "import pandas as pd\n",
    "import numpy as np\n",
    "import re"
   ]
  },
  {
   "cell_type": "code",
   "execution_count": 2,
   "metadata": {},
   "outputs": [],
   "source": [
    "# load datasets\n",
    "cb_data = pd.read_csv('C:/Users/AM/OneDrive/Desktop/capstone/data/raw/space_startups.csv', encoding='latin-1')\n",
    "usa_spending = pd.read_csv('C:/Users/AM/OneDrive/Desktop/capstone/data/raw/prime_awards.csv', encoding='utf-8')"
   ]
  },
  {
   "cell_type": "code",
   "execution_count": 3,
   "metadata": {},
   "outputs": [
    {
     "name": "stdout",
     "output_type": "stream",
     "text": [
      "Crunchbase Data Shape: (904, 24)\n",
      "USA Spending Data Shape: (5294, 60)\n"
     ]
    }
   ],
   "source": [
    "# check data shape\n",
    "print(\"Crunchbase Data Shape:\", cb_data.shape)\n",
    "print(\"USA Spending Data Shape:\", usa_spending.shape)"
   ]
  },
  {
   "cell_type": "markdown",
   "metadata": {},
   "source": [
    "This difference in size and complexity suggests that we'll need to carefully select which USA Spending data to merge with the Crunchbase data."
   ]
  },
  {
   "cell_type": "code",
   "execution_count": 4,
   "metadata": {},
   "outputs": [
    {
     "name": "stdout",
     "output_type": "stream",
     "text": [
      "\n",
      "Crunchbase Data:\n",
      "           company_name  year_founded  \\\n",
      "0                DIMAAG          2018   \n",
      "1               Netdata          2018   \n",
      "2  Outward Technologies          2017   \n",
      "3                TATINE          2015   \n",
      "4                   X3M          2022   \n",
      "\n",
      "                                          industries  \\\n",
      "0  Artificial Intelligence (AI), Autonomous Vehic...   \n",
      "1  Enterprise Software, Information Technology, I...   \n",
      "2                       Aerospace, Commercial, Solar   \n",
      "3   E-Commerce, Home Decor, Manufacturing, Wholesale   \n",
      "4  Advertising, Advertising Platforms, Informatio...   \n",
      "\n",
      "                                         hq  zipcode  \\\n",
      "0        Fremont, California, United States    94538   \n",
      "1  San Francisco, California, United States    94104   \n",
      "2       Broomfield, Colorado, United States    80020   \n",
      "3          Chicago, Illinois, United States    60639   \n",
      "4       Wilmington, Delaware, United States    19801   \n",
      "\n",
      "                                         description operating_status  \\\n",
      "0  Building cutting-edge products and software se...           Active   \n",
      "1  Monitor your servers, containers, and applicat...           Active   \n",
      "2  Outward Technologies develops critical technol...           Active   \n",
      "3      TATINE manufactures and sells candles online.           Active   \n",
      "4  X3M improves ad monetization on mobile, giving...           Active   \n",
      "\n",
      "   cb_rank       funding_status funding_date  ... ipo_valuation ipo_date  \\\n",
      "0   205664                  NaN   2020-01-27  ...           NaN      NaN   \n",
      "1    29903  Early Stage Venture   2020-09-22  ...           NaN      NaN   \n",
      "2    99546                  NaN   2020-09-11  ...           NaN      NaN   \n",
      "3   766720                  NaN          NaN  ...           NaN      NaN   \n",
      "4  1900792                  NaN          NaN  ...           NaN      NaN   \n",
      "\n",
      "  growth_confidence growth_category  estimated_revenue num_employees  \\\n",
      "0               NaN             NaN                NaN       101-250   \n",
      "1               NaN             NaN       $10M to $50M        51-100   \n",
      "2               NaN             NaN        $1M to $10M         11-50   \n",
      "3               NaN             NaN      Less than $1M        10-Jan   \n",
      "4               NaN         Growing                NaN        51-100   \n",
      "\n",
      "  num_funding_rounds total_funding  \\\n",
      "0                1.0           NaN   \n",
      "1                5.0    34700000.0   \n",
      "2                2.0     1175495.0   \n",
      "3                NaN           NaN   \n",
      "4                NaN           NaN   \n",
      "\n",
      "                                       top_investors num_investors  \n",
      "0      Plug and Play, Global Catalyst Partners Japan           2.0  \n",
      "1  Bessemer Venture Partners, Uncorrelated Ventur...           5.0  \n",
      "2                        National Science Foundation           1.0  \n",
      "3                                                NaN           NaN  \n",
      "4                                                NaN           NaN  \n",
      "\n",
      "[5 rows x 24 columns]\n",
      "\n",
      "USA Spending Data:\n",
      "                        contract_award_unique_key  award_id_piid  \\\n",
      "0  CONT_AWD_80GRC025F7003_8000_80GSFC19D0011_8000  80GRC025F7003   \n",
      "1       CONT_AWD_HR001124C0400_9700_-NONE-_-NONE-  HR001124C0400   \n",
      "2  CONT_AWD_80GRC024F0043_8000_80GRC019D0012_8000  80GRC024F0043   \n",
      "3       CONT_AWD_80GSFC22CA012_8000_-NONE-_-NONE-  80GSFC22CA012   \n",
      "4  CONT_AWD_W56HZV22F0217_9700_W56HZV19D0111_9700  W56HZV22F0217   \n",
      "\n",
      "  parent_award_agency_id                       parent_award_agency_name  \\\n",
      "0                   8000  NATIONAL AERONAUTICS AND SPACE ADMINISTRATION   \n",
      "1                    NaN                                            NaN   \n",
      "2                   8000  NATIONAL AERONAUTICS AND SPACE ADMINISTRATION   \n",
      "3                    NaN                                            NaN   \n",
      "4                   9700                                DEPT OF DEFENSE   \n",
      "\n",
      "  parent_award_id_piid  total_obligated_amount  total_outlayed_amount  \\\n",
      "0        80GSFC19D0011               109416.67                    NaN   \n",
      "1                  NaN              4500000.00                    NaN   \n",
      "2        80GRC019D0012               174573.00                    NaN   \n",
      "3                  NaN              1354514.55               832102.0   \n",
      "4        W56HZV19D0111               150000.00                    NaN   \n",
      "\n",
      "   current_total_value_of_award  potential_total_value_of_award  \\\n",
      "0                     182361.12                       182361.12   \n",
      "1                   12950335.00                     12950335.00   \n",
      "2                     174573.00                       174573.00   \n",
      "3                    3910129.00                      3910129.00   \n",
      "4                     150000.00                       150000.00   \n",
      "\n",
      "  award_base_action_date  ...  naics_code  \\\n",
      "0             2024-10-18  ...      541715   \n",
      "1             2024-03-13  ...      541715   \n",
      "2             2024-06-06  ...      336414   \n",
      "3             2022-08-19  ...      541715   \n",
      "4             2022-05-20  ...      541715   \n",
      "\n",
      "                                   naics_description  \\\n",
      "0  RESEARCH AND DEVELOPMENT IN THE PHYSICAL, ENGI...   \n",
      "1  RESEARCH AND DEVELOPMENT IN THE PHYSICAL, ENGI...   \n",
      "2     GUIDED MISSILE AND SPACE VEHICLE MANUFACTURING   \n",
      "3  RESEARCH AND DEVELOPMENT IN THE PHYSICAL, ENGI...   \n",
      "4  RESEARCH AND DEVELOPMENT IN THE PHYSICAL, ENGI...   \n",
      "\n",
      "     solicitation_procedures       other_than_full_and_open_competition  \\\n",
      "0            ONLY ONE SOURCE  MOBILIZATION, ESSENTIAL R&D (FAR 6.302-3)   \n",
      "1             BASIC RESEARCH                                        NaN   \n",
      "2  NEGOTIATED PROPOSAL/QUOTE                                        NaN   \n",
      "3  NEGOTIATED PROPOSAL/QUOTE                                        NaN   \n",
      "4            ONLY ONE SOURCE  ONLY ONE SOURCE-OTHER (FAR 6.302-1 OTHER)   \n",
      "\n",
      "  number_of_offers_received performance_based_service_acquisition_code  \\\n",
      "0                       NaN                                          N   \n",
      "1                       2.0                                          N   \n",
      "2                       NaN                                          N   \n",
      "3                      10.0                                          Y   \n",
      "4                       NaN                                          N   \n",
      "\n",
      "  multi_year_contract_code       organizational_type  \\\n",
      "0                        N      CORPORATE TAX EXEMPT   \n",
      "1                        N  CORPORATE NOT TAX EXEMPT   \n",
      "2                        Y               PARTNERSHIP   \n",
      "3                        N      US GOVERNMENT ENTITY   \n",
      "4                        N               PARTNERSHIP   \n",
      "\n",
      "                               usaspending_permalink  last_modified_date  \n",
      "0  https://www.usaspending.gov/award/CONT_AWD_80G...          2024-10-18  \n",
      "1  https://www.usaspending.gov/award/CONT_AWD_HR0...          2024-06-26  \n",
      "2  https://www.usaspending.gov/award/CONT_AWD_80G...          2024-06-10  \n",
      "3  https://www.usaspending.gov/award/CONT_AWD_80G...          2024-10-03  \n",
      "4  https://www.usaspending.gov/award/CONT_AWD_W56...          2023-12-21  \n",
      "\n",
      "[5 rows x 60 columns]\n"
     ]
    }
   ],
   "source": [
    "# display the first few rows of each dataset\n",
    "print(\"\\nCrunchbase Data:\")\n",
    "print(cb_data.head())\n",
    "print(\"\\nUSA Spending Data:\")\n",
    "print(usa_spending.head())"
   ]
  },
  {
   "cell_type": "code",
   "execution_count": 5,
   "metadata": {},
   "outputs": [
    {
     "name": "stdout",
     "output_type": "stream",
     "text": [
      "\n",
      "Missing values in Crunchbase Data:\n",
      "company_name            0\n",
      "year_founded            0\n",
      "industries              0\n",
      "hq                      0\n",
      "zipcode                 0\n",
      "description             0\n",
      "operating_status        0\n",
      "cb_rank                 0\n",
      "funding_status        527\n",
      "funding_date          482\n",
      "funding_type          426\n",
      "acquired_by           862\n",
      "acquired_price        899\n",
      "ipo_status              0\n",
      "ipo_valuation         898\n",
      "ipo_date              894\n",
      "growth_confidence     903\n",
      "growth_category       739\n",
      "estimated_revenue     394\n",
      "num_employees          25\n",
      "num_funding_rounds    426\n",
      "total_funding         503\n",
      "top_investors         516\n",
      "num_investors         517\n",
      "dtype: int64\n",
      "\n",
      "Missing values in USA Spending Data:\n",
      "contract_award_unique_key                            0\n",
      "award_id_piid                                        0\n",
      "parent_award_agency_id                            2959\n",
      "parent_award_agency_name                          3047\n",
      "parent_award_id_piid                              2959\n",
      "total_obligated_amount                               0\n",
      "total_outlayed_amount                             3134\n",
      "current_total_value_of_award                       583\n",
      "potential_total_value_of_award                     332\n",
      "award_base_action_date                               0\n",
      "award_base_action_year                               0\n",
      "award_latest_action_date                             0\n",
      "current_end_date                                   265\n",
      "awarding_agency_code                                 0\n",
      "awarding_agency_name                                 0\n",
      "awarding_sub_agency_code                             0\n",
      "awarding_sub_agency_name                             0\n",
      "awarding_office_code                                 0\n",
      "awarding_office_name                                 0\n",
      "funding_agency_code                                  0\n",
      "funding_agency_name                                  0\n",
      "funding_sub_agency_code                              0\n",
      "funding_sub_agency_name                              0\n",
      "funding_office_code                                  0\n",
      "funding_office_name                                  0\n",
      "treasury_accounts_funding_this_award              1786\n",
      "object_classes_funding_this_award                 1786\n",
      "program_activities_funding_this_award             1900\n",
      "recipient_uei                                        0\n",
      "recipient_name                                       0\n",
      "recipient_name_raw                                  61\n",
      "cage_code                                          559\n",
      "recipient_parent_uei                                 0\n",
      "recipient_parent_name                                0\n",
      "recipient_parent_name_raw                            8\n",
      "recipient_address_line_1                             0\n",
      "recipient_address_line_2                          5201\n",
      "recipient_city_name                                  0\n",
      "prime_award_summary_recipient_county_fips_code      32\n",
      "recipient_county_name                               33\n",
      "prime_award_summary_recipient_state_fips_code        9\n",
      "recipient_state_code                                 9\n",
      "recipient_zip_4_code                                 1\n",
      "recipient_phone_number                             193\n",
      "primary_place_of_performance_city_name             280\n",
      "primary_place_of_performance_state_code            280\n",
      "primary_place_of_performance_zip_4                 277\n",
      "award_type                                         265\n",
      "type_of_contract_pricing                             1\n",
      "product_or_service_code_description                  0\n",
      "naics_code                                           0\n",
      "naics_description                                    0\n",
      "solicitation_procedures                             15\n",
      "other_than_full_and_open_competition              3529\n",
      "number_of_offers_received                         1445\n",
      "performance_based_service_acquisition_code           0\n",
      "multi_year_contract_code                           553\n",
      "organizational_type                                552\n",
      "usaspending_permalink                                0\n",
      "last_modified_date                                   0\n",
      "dtype: int64\n"
     ]
    }
   ],
   "source": [
    "# check for missing values\n",
    "print(\"\\nMissing values in Crunchbase Data:\")\n",
    "print(cb_data.isnull().sum())\n",
    "print(\"\\nMissing values in USA Spending Data:\")\n",
    "print(usa_spending.isnull().sum())"
   ]
  },
  {
   "cell_type": "markdown",
   "metadata": {},
   "source": [
    "**Crunchbase Data**: many fields in this dataset have missing values. We will drop unnecessary rows.\n",
    "<br>**USA Spending Data**: Many columns have missing values, with some having over 4,000 missing entries out of 5,294 rows.\n",
    "\n",
    "<br>**Action items**:\n",
    "<br>We need to identify which columns are crucial for our analysis and focus on cleaning those. Some columns with many missing values might be less relevant or could be dropped."
   ]
  },
  {
   "cell_type": "code",
   "execution_count": 6,
   "metadata": {},
   "outputs": [],
   "source": [
    "# Crunchbase data cleaning\n",
    "columns_to_drop_cb = ['acquired_by', 'acquired_price', 'ipo_valuation', 'ipo_date', 'growth_confidence', 'growth_category']\n",
    "cb_data = cb_data.drop(columns=columns_to_drop_cb)\n",
    "\n",
    "# drop rows with missing critical information\n",
    "cb_data = cb_data.dropna(subset=['company_name', 'year_founded', 'Industries', 'hq', 'description', 'operating_status'])"
   ]
  },
  {
   "cell_type": "code",
   "execution_count": 6,
   "metadata": {},
   "outputs": [],
   "source": [
    "# USA Spending data cleaning\n",
    "columns_to_drop_usa = [\n",
    "    'parent_award_agency_id', 'parent_award_agency_name', 'parent_award_id_piid',\n",
    "    'total_outlayed_amount', 'treasury_accounts_funding_this_award',\n",
    "    'object_classes_funding_this_award', 'program_activities_funding_this_award', 'recipient_name_raw',\n",
    "    'recipient_address_line_2', 'prime_award_summary_recipient_county_fips_code',\n",
    "    'recipient_county_name', 'prime_award_summary_recipient_state_fips_code',\n",
    "    'other_than_full_and_open_competition'\n",
    "]\n",
    "usa_spending = usa_spending.drop(columns=columns_to_drop_usa)\n",
    "\n",
    "# zero rows with missing critical information"
   ]
  },
  {
   "cell_type": "code",
   "execution_count": 7,
   "metadata": {},
   "outputs": [
    {
     "name": "stdout",
     "output_type": "stream",
     "text": [
      "\n",
      "Data types in Crunchbase Data:\n",
      "company_name           object\n",
      "year_founded          float64\n",
      "Industries             object\n",
      "hq                     object\n",
      "zipcode               float64\n",
      "description            object\n",
      "operating_status       object\n",
      "cb_rank               float64\n",
      "funding_status         object\n",
      "funding_date           object\n",
      "funding_type           object\n",
      "ipo_status             object\n",
      "estimated_revenue      object\n",
      "num_employees          object\n",
      "num_funding_rounds    float64\n",
      "total_funding         float64\n",
      "top_investors          object\n",
      "num_investors         float64\n",
      "dtype: object\n",
      "\n",
      "Data types in USA Spending Data:\n",
      "contract_award_unique_key                          object\n",
      "award_id_piid                                      object\n",
      "parent_award_agency_id                             object\n",
      "parent_award_agency_name                           object\n",
      "parent_award_id_piid                               object\n",
      "total_obligated_amount                            float64\n",
      "total_outlayed_amount                             float64\n",
      "current_total_value_of_award                      float64\n",
      "potential_total_value_of_award                    float64\n",
      "award_base_action_date                             object\n",
      "award_base_action_year                              int64\n",
      "award_latest_action_date                           object\n",
      "current_end_date                                   object\n",
      "awarding_agency_code                                int64\n",
      "awarding_agency_name                               object\n",
      "awarding_sub_agency_code                           object\n",
      "awarding_sub_agency_name                           object\n",
      "awarding_office_code                               object\n",
      "awarding_office_name                               object\n",
      "funding_agency_code                                 int64\n",
      "funding_agency_name                                object\n",
      "funding_sub_agency_code                            object\n",
      "funding_sub_agency_name                            object\n",
      "funding_office_code                                object\n",
      "funding_office_name                                object\n",
      "treasury_accounts_funding_this_award               object\n",
      "object_classes_funding_this_award                  object\n",
      "program_activities_funding_this_award              object\n",
      "recipient_uei                                      object\n",
      "recipient_name                                     object\n",
      "recipient_name_raw                                 object\n",
      "cage_code                                          object\n",
      "recipient_parent_uei                               object\n",
      "recipient_parent_name                              object\n",
      "recipient_parent_name_raw                          object\n",
      "recipient_address_line_1                           object\n",
      "recipient_address_line_2                           object\n",
      "recipient_city_name                                object\n",
      "prime_award_summary_recipient_county_fips_code    float64\n",
      "recipient_county_name                              object\n",
      "prime_award_summary_recipient_state_fips_code     float64\n",
      "recipient_state_code                               object\n",
      "recipient_zip_4_code                               object\n",
      "recipient_phone_number                            float64\n",
      "primary_place_of_performance_city_name             object\n",
      "primary_place_of_performance_state_code            object\n",
      "primary_place_of_performance_zip_4                 object\n",
      "award_type                                         object\n",
      "type_of_contract_pricing                           object\n",
      "product_or_service_code_description                object\n",
      "naics_code                                          int64\n",
      "naics_description                                  object\n",
      "solicitation_procedures                            object\n",
      "other_than_full_and_open_competition               object\n",
      "number_of_offers_received                         float64\n",
      "performance_based_service_acquisition_code         object\n",
      "multi_year_contract_code                           object\n",
      "organizational_type                                object\n",
      "usaspending_permalink                              object\n",
      "last_modified_date                                 object\n",
      "dtype: object\n"
     ]
    }
   ],
   "source": [
    "# check data types\n",
    "print(\"\\nData types in Crunchbase Data:\")\n",
    "print(cb_data.dtypes)\n",
    "print(\"\\nData types in USA Spending Data:\")\n",
    "print(usa_spending.dtypes)"
   ]
  },
  {
   "cell_type": "markdown",
   "metadata": {},
   "source": [
    "**Crunchbase Data**: Many columns are of type 'object', which suggests they're all being treated as strings.\n",
    "<br>**USA Spending Data**: Mix of 'object' and 'float64' types.\n",
    "\n",
    "**Action Items**:\n",
    "<br>For Crunchbase, we should convert numeric columns (e.g., funding amounts, employee counts) to appropriate numeric types.\n",
    "<br>For USA Spending, we need to ensure date columns are in datetime format and numeric columns are in appropriate numeric types.\n"
   ]
  },
  {
   "cell_type": "code",
   "execution_count": 9,
   "metadata": {},
   "outputs": [],
   "source": [
    "# ensure 'year_founded' is integer\n",
    "cb_data['year_founded'] = cb_data['year_founded'].astype(int)"
   ]
  },
  {
   "cell_type": "code",
   "execution_count": 10,
   "metadata": {},
   "outputs": [],
   "source": [
    "# convert operating_status to binary (saves space)\n",
    "# 'Active' will be '1', 'Closed' will be '0'\n",
    "cb_data['operating_status_binary'] = (cb_data['operating_status'] == 'Active').astype(int)"
   ]
  },
  {
   "cell_type": "code",
   "execution_count": 32,
   "metadata": {},
   "outputs": [],
   "source": [
    "# function to correct and categorize num_employees\n",
    "def correct_employee_category(value):\n",
    "    if value == '10-Jan':  # Fix Excel conversion issue\n",
    "        return '1-10'\n",
    "    elif pd.isna(value):\n",
    "        return 'Unknown'\n",
    "    else:\n",
    "        return value"
   ]
  },
  {
   "cell_type": "code",
   "execution_count": 33,
   "metadata": {},
   "outputs": [],
   "source": [
    "# apply the correction\n",
    "cb_data['num_employees_cat'] = cb_data['num_employees_cat'].apply(correct_employee_category)"
   ]
  },
  {
   "cell_type": "code",
   "execution_count": 35,
   "metadata": {},
   "outputs": [],
   "source": [
    "# define the order of categories\n",
    "employee_categories = ['1-10', '11-50', '51-100', '101-250', '251-500', '501-1000', '1001-5000', '10001+', 'Unknown']\n",
    "\n",
    "# apply the correction and convert to categorical\n",
    "cb_data['num_employees_cat'] = (cb_data['num_employees']\n",
    "                                .apply(categorize_employees)\n",
    "                                .astype(pd.CategoricalDtype(categories=employee_categories, ordered=True)))"
   ]
  },
  {
   "cell_type": "code",
   "execution_count": 36,
   "metadata": {},
   "outputs": [
    {
     "name": "stdout",
     "output_type": "stream",
     "text": [
      "num_employees_cat\n",
      "1-10         420\n",
      "11-50        319\n",
      "51-100        52\n",
      "101-250       52\n",
      "251-500       13\n",
      "501-1000      12\n",
      "1001-5000      5\n",
      "10001+         5\n",
      "Unknown        0\n",
      "Name: count, dtype: int64\n"
     ]
    }
   ],
   "source": [
    "# verify the changes\n",
    "print(cb_data['num_employees_cat'].value_counts())"
   ]
  },
  {
   "cell_type": "markdown",
   "metadata": {},
   "source": [
    "#### Step 2: Crunchbase data cleaning\n",
    "\n",
    "- Handle missing values in key fields like 'funding_date', 'total_funding'\n",
    "- Convert date fields to a consistent format\n",
    "- Standardize company names (remove LLC, Inc., etc.)\n",
    "- Create a standardized location column from 'hq'\n",
    "- Process funding information\n",
    "- Categorize companies based on industry focus"
   ]
  },
  {
   "cell_type": "code",
   "execution_count": 18,
   "metadata": {},
   "outputs": [],
   "source": [
    "# function to safely replace NaN with 0\n",
    "def safe_fillna(col):\n",
    "    if pd.api.types.is_categorical_dtype(col):\n",
    "        # for categorical columns, we'll add '0' to the categories if it's not already there\n",
    "        if '0' not in col.cat.categories:\n",
    "            col = col.cat.add_categories('0')\n",
    "        return col.fillna('0')\n",
    "    else:\n",
    "        return col.fillna(0)\n",
    "\n",
    "# apply safe_fillna to all columns\n",
    "cb_data = cb_data.apply(safe_fillna)"
   ]
  },
  {
   "cell_type": "code",
   "execution_count": 24,
   "metadata": {},
   "outputs": [],
   "source": [
    "# standardize company names\n",
    "def clean_company_name(name):\n",
    "    name = str(name)\n",
    "    name = re.sub(r'\\s+(LLC|Inc\\.?|Corporation|Corp\\.?|Ltd\\.?)$', '', name, flags=re.IGNORECASE)\n",
    "    return name.upper().strip()\n",
    "\n",
    "cb_data['clean_name'] = cb_data['company_name'].apply(clean_company_name)"
   ]
  },
  {
   "cell_type": "code",
   "execution_count": 14,
   "metadata": {},
   "outputs": [],
   "source": [
    "# extract and clean location data\n",
    "cb_data[['city', 'state', 'country']] = cb_data['hq'].str.split(',', expand=True)\n",
    "cb_data['state'] = cb_data['state'].str.strip()\n",
    "cb_data['country'] = cb_data['country'].str.strip()"
   ]
  },
  {
   "cell_type": "code",
   "execution_count": 25,
   "metadata": {},
   "outputs": [],
   "source": [
    "# convert specified columns to integers\n",
    "int_columns = ['cb_rank', 'num_funding_rounds', 'num_investors', 'total_funding']\n",
    "\n",
    "for col in int_columns:\n",
    "    cb_data[col] = cb_data[col].astype(float).fillna(0).astype(int)"
   ]
  },
  {
   "cell_type": "code",
   "execution_count": 26,
   "metadata": {},
   "outputs": [
    {
     "name": "stdout",
     "output_type": "stream",
     "text": [
      "cb_rank               int32\n",
      "num_funding_rounds    int32\n",
      "num_investors         int32\n",
      "total_funding         int32\n",
      "dtype: object\n"
     ]
    }
   ],
   "source": [
    "# verify the changes\n",
    "print(cb_data[int_columns].dtypes)"
   ]
  },
  {
   "cell_type": "code",
   "execution_count": 37,
   "metadata": {},
   "outputs": [],
   "source": [
    "# save the cleaned data\n",
    "cb_data.to_csv('cleaned_crunchbase_data.csv', index=False)"
   ]
  },
  {
   "cell_type": "code",
   "execution_count": 29,
   "metadata": {},
   "outputs": [
    {
     "name": "stdout",
     "output_type": "stream",
     "text": [
      "           company_name  year_founded  \\\n",
      "0                DIMAAG          2018   \n",
      "1               Netdata          2018   \n",
      "2  Outward Technologies          2017   \n",
      "3                TATINE          2015   \n",
      "4                   X3M          2022   \n",
      "\n",
      "                                          Industries  \\\n",
      "0  Artificial Intelligence (AI), Autonomous Vehic...   \n",
      "1  Enterprise Software, Information Technology, I...   \n",
      "2                       Aerospace, Commercial, Solar   \n",
      "3   E-Commerce, Home Decor, Manufacturing, Wholesale   \n",
      "4  Advertising, Advertising Platforms, Informatio...   \n",
      "\n",
      "                                         hq  zipcode  \\\n",
      "0        Fremont, California, United States    94538   \n",
      "1  San Francisco, California, United States    94104   \n",
      "2       Broomfield, Colorado, United States    80020   \n",
      "3          Chicago, Illinois, United States    60639   \n",
      "4       Wilmington, Delaware, United States    19801   \n",
      "\n",
      "                                         description operating_status  \\\n",
      "0  Building cutting-edge products and software se...           Active   \n",
      "1  Monitor your servers, containers, and applicat...           Active   \n",
      "2  Outward Technologies develops critical technol...           Active   \n",
      "3      TATINE manufactures and sells candles online.           Active   \n",
      "4  X3M improves ad monetization on mobile, giving...           Active   \n",
      "\n",
      "   cb_rank       funding_status funding_date  ... num_funding_rounds  \\\n",
      "0   205664                    0   2020-01-27  ...                  1   \n",
      "1    29903  Early Stage Venture   2020-09-22  ...                  5   \n",
      "2    99546                    0   2020-09-11  ...                  2   \n",
      "3   766720                    0            0  ...                  0   \n",
      "4  1900792                    0            0  ...                  0   \n",
      "\n",
      "  total_funding                                      top_investors  \\\n",
      "0             0      Plug and Play, Global Catalyst Partners Japan   \n",
      "1      34700000  Bessemer Venture Partners, Uncorrelated Ventur...   \n",
      "2       1175495                        National Science Foundation   \n",
      "3             0                                                  0   \n",
      "4             0                                                  0   \n",
      "\n",
      "  num_investors  operating_status_binary  num_employees_cat  \\\n",
      "0             2                        1            101-250   \n",
      "1             5                        1             51-100   \n",
      "2             1                        1              11-50   \n",
      "3             0                        1               1-10   \n",
      "4             0                        1             51-100   \n",
      "\n",
      "             clean_name           city       state        country  \n",
      "0                DIMAAG        Fremont  California  United States  \n",
      "1               NETDATA  San Francisco  California  United States  \n",
      "2  OUTWARD TECHNOLOGIES     Broomfield    Colorado  United States  \n",
      "3                TATINE        Chicago    Illinois  United States  \n",
      "4                   X3M     Wilmington    Delaware  United States  \n",
      "\n",
      "[5 rows x 24 columns]\n",
      "<class 'pandas.core.frame.DataFrame'>\n",
      "Index: 904 entries, 0 to 903\n",
      "Data columns (total 24 columns):\n",
      " #   Column                   Non-Null Count  Dtype   \n",
      "---  ------                   --------------  -----   \n",
      " 0   company_name             904 non-null    object  \n",
      " 1   year_founded             904 non-null    int32   \n",
      " 2   Industries               904 non-null    object  \n",
      " 3   hq                       904 non-null    object  \n",
      " 4   zipcode                  904 non-null    int32   \n",
      " 5   description              904 non-null    object  \n",
      " 6   operating_status         904 non-null    object  \n",
      " 7   cb_rank                  904 non-null    int32   \n",
      " 8   funding_status           904 non-null    object  \n",
      " 9   funding_date             904 non-null    object  \n",
      " 10  funding_type             904 non-null    object  \n",
      " 11  ipo_status               904 non-null    object  \n",
      " 12  estimated_revenue        904 non-null    object  \n",
      " 13  num_employees            904 non-null    object  \n",
      " 14  num_funding_rounds       904 non-null    int32   \n",
      " 15  total_funding            904 non-null    int32   \n",
      " 16  top_investors            904 non-null    object  \n",
      " 17  num_investors            904 non-null    int32   \n",
      " 18  operating_status_binary  904 non-null    int32   \n",
      " 19  num_employees_cat        904 non-null    category\n",
      " 20  clean_name               904 non-null    object  \n",
      " 21  city                     904 non-null    object  \n",
      " 22  state                    904 non-null    object  \n",
      " 23  country                  904 non-null    object  \n",
      "dtypes: category(1), int32(7), object(16)\n",
      "memory usage: 146.0+ KB\n",
      "None\n"
     ]
    }
   ],
   "source": [
    "print(cb_data.head())\n",
    "print(cb_data.info())"
   ]
  },
  {
   "cell_type": "markdown",
   "metadata": {},
   "source": [
    "**Output Analysis**:\n",
    "\n",
    "1. Dataset Overview:\n",
    "   - We have 904 companies in the dataset.\n",
    "   - The data spans various aspects of each company, including founding date, industry, location, funding, and operational status.\n",
    "\n",
    "2. Data Quality:\n",
    "   - All columns have full data (904 non-null values), which is good.\n",
    "\n",
    "3. Key Observations:\n",
    "   - Funding amounts vary significantly, from $35.8 million (Phase Four) to $1.36 billion (Relativity Space).\n",
    "   - The number of investors ranges from 11 to 58 for these companies, indicating varying levels of investor interest.\n",
    "\n",
    "4. Data Types:\n",
    "   - Most columns (30) are of type 'object', which may include strings and mixed data types.\n",
    "   - 'founded_year' type is appropriate for data visualization.\n",
    "   - categories were added for easy range comparison\n",
    "   - 'total_funding', 'num_funding_rounds' are int types, suitable for numerical analysis.\n"
   ]
  },
  {
   "cell_type": "markdown",
   "metadata": {},
   "source": [
    "#### Step 3: USA Spending data cleaning\n",
    "\n",
    "- Focus on the 'Contracts_PrimeAwardSummaries' file as it seems most relevant\n",
    "- Standardize company names in 'prime_awardee_name'\n",
    "- Convert date fields to a consistent format\n",
    "- Filter out irrelevant awards (e.g., those related to malnutrition)\n",
    "- Create a year column from 'prime_award_base_action_date'\n",
    "- Categorize awards based on 'prime_award_naics_description'"
   ]
  },
  {
   "cell_type": "code",
   "execution_count": 7,
   "metadata": {},
   "outputs": [
    {
     "name": "stdout",
     "output_type": "stream",
     "text": [
      "Current columns in USA Spending data:\n",
      "contract_award_unique_key\n",
      "award_id_piid\n",
      "total_obligated_amount\n",
      "current_total_value_of_award\n",
      "potential_total_value_of_award\n",
      "award_base_action_date\n",
      "award_base_action_year\n",
      "award_latest_action_date\n",
      "current_end_date\n",
      "awarding_agency_code\n",
      "awarding_agency_name\n",
      "awarding_sub_agency_code\n",
      "awarding_sub_agency_name\n",
      "awarding_office_code\n",
      "awarding_office_name\n",
      "funding_agency_code\n",
      "funding_agency_name\n",
      "funding_sub_agency_code\n",
      "funding_sub_agency_name\n",
      "funding_office_code\n",
      "funding_office_name\n",
      "recipient_uei\n",
      "recipient_name\n",
      "cage_code\n",
      "recipient_parent_uei\n",
      "recipient_parent_name\n",
      "recipient_parent_name_raw\n",
      "recipient_address_line_1\n",
      "recipient_city_name\n",
      "recipient_state_code\n",
      "recipient_zip_4_code\n",
      "recipient_phone_number\n",
      "primary_place_of_performance_city_name\n",
      "primary_place_of_performance_state_code\n",
      "primary_place_of_performance_zip_4\n",
      "award_type\n",
      "type_of_contract_pricing\n",
      "product_or_service_code_description\n",
      "naics_code\n",
      "naics_description\n",
      "solicitation_procedures\n",
      "number_of_offers_received\n",
      "performance_based_service_acquisition_code\n",
      "multi_year_contract_code\n",
      "organizational_type\n",
      "usaspending_permalink\n",
      "last_modified_date\n",
      "\n",
      "Total number of columns: 47\n"
     ]
    }
   ],
   "source": [
    "# let's check again which column we are dealing with\n",
    "print(\"Current columns in USA Spending data:\")\n",
    "for col in usa_spending.columns:\n",
    "    print(col)\n",
    "\n",
    "print(f\"\\nTotal number of columns: {len(usa_spending.columns)}\")"
   ]
  },
  {
   "cell_type": "code",
   "execution_count": 8,
   "metadata": {},
   "outputs": [
    {
     "name": "stdout",
     "output_type": "stream",
     "text": [
      "Columns remaining: 26\n",
      "['contract_award_unique_key', 'award_id_piid', 'total_obligated_amount', 'current_total_value_of_award', 'potential_total_value_of_award', 'award_base_action_date', 'award_base_action_year', 'current_end_date', 'awarding_agency_name', 'awarding_sub_agency_name', 'funding_agency_name', 'funding_sub_agency_name', 'recipient_name', 'recipient_parent_name', 'recipient_city_name', 'recipient_state_code', 'recipient_zip_4_code', 'primary_place_of_performance_city_name', 'primary_place_of_performance_state_code', 'award_type', 'type_of_contract_pricing', 'product_or_service_code_description', 'naics_code', 'naics_description', 'number_of_offers_received', 'organizational_type']\n"
     ]
    }
   ],
   "source": [
    "columns_to_keep = [\n",
    "    'contract_award_unique_key', 'award_id_piid', 'total_obligated_amount',\n",
    "    'current_total_value_of_award', 'potential_total_value_of_award',\n",
    "    'award_base_action_date', 'award_base_action_year', 'current_end_date',\n",
    "    'awarding_agency_name', 'awarding_sub_agency_name',\n",
    "    'funding_agency_name', 'funding_sub_agency_name',\n",
    "    'recipient_name', 'recipient_parent_name',\n",
    "    'recipient_city_name', 'recipient_state_code', 'recipient_zip_4_code',\n",
    "    'primary_place_of_performance_city_name', 'primary_place_of_performance_state_code',\n",
    "    'award_type', 'type_of_contract_pricing',\n",
    "    'product_or_service_code_description', 'naics_code', 'naics_description',\n",
    "    'number_of_offers_received', 'organizational_type'\n",
    "]\n",
    "\n",
    "usa_spending = usa_spending[columns_to_keep]\n",
    "\n",
    "print(f\"Columns remaining: {usa_spending.shape[1]}\")\n",
    "print(usa_spending.columns.tolist())"
   ]
  },
  {
   "cell_type": "code",
   "execution_count": 9,
   "metadata": {},
   "outputs": [],
   "source": [
    "# convert date columns to datetime\n",
    "date_columns = ['award_base_action_date', 'current_end_date']\n",
    "for col in date_columns:\n",
    "    usa_spending[col] = pd.to_datetime(usa_spending[col], errors='coerce')"
   ]
  },
  {
   "cell_type": "code",
   "execution_count": 10,
   "metadata": {},
   "outputs": [],
   "source": [
    "# convert numeric columns\n",
    "numeric_columns = ['total_obligated_amount', 'current_total_value_of_award', 'potential_total_value_of_award', 'award_base_action_year', 'number_of_offers_received', 'naics_code']\n",
    "for col in numeric_columns:\n",
    "    usa_spending[col] = pd.to_numeric(usa_spending[col], errors='coerce')"
   ]
  },
  {
   "cell_type": "code",
   "execution_count": 11,
   "metadata": {},
   "outputs": [],
   "source": [
    "# fill missing values for numeric columns with 0\n",
    "usa_spending[numeric_columns] = usa_spending[numeric_columns].fillna(0)"
   ]
  },
  {
   "cell_type": "code",
   "execution_count": 12,
   "metadata": {},
   "outputs": [],
   "source": [
    "# fill missing values for categorical columns with 'Unknown'\n",
    "categorical_columns = [col for col in usa_spending.columns if col not in numeric_columns + date_columns]\n",
    "usa_spending[categorical_columns] = usa_spending[categorical_columns].fillna('Unknown')"
   ]
  },
  {
   "cell_type": "code",
   "execution_count": 13,
   "metadata": {},
   "outputs": [],
   "source": [
    "# standardize company names for potential matching with CB data\n",
    "def clean_company_name(name):\n",
    "    if pd.isna(name):\n",
    "        return ''\n",
    "    name = str(name)\n",
    "    # remove commas\n",
    "    name = name.replace(',', '')\n",
    "    # remove common suffixes\n",
    "    name = re.sub(r'\\s+(LLC|Inc\\.?|Corporation|Corp\\.?|Ltd\\.?|Limited|Company|Co\\.?|L\\.?P\\.?|S\\.?A\\.?)$', '', name, flags=re.IGNORECASE)\n",
    "    # remove any remaining punctuation and convert to uppercase\n",
    "    name = re.sub(r'[^\\w\\s]', '', name)\n",
    "    # remove extra spaces and convert to uppercase\n",
    "    return ' '.join(word.upper() for word in name.split() if word.isalnum())"
   ]
  },
  {
   "cell_type": "code",
   "execution_count": 14,
   "metadata": {},
   "outputs": [],
   "source": [
    "# apply to USA Spending data\n",
    "usa_spending['clean_recipient_name'] = usa_spending['recipient_name'].apply(clean_company_name)\n",
    "usa_spending['clean_recipient_parent_name'] = usa_spending['recipient_parent_name'].apply(clean_company_name)"
   ]
  },
  {
   "cell_type": "code",
   "execution_count": 15,
   "metadata": {},
   "outputs": [
    {
     "name": "stdout",
     "output_type": "stream",
     "text": [
      "USA Spending Data:\n",
      "                              recipient_name  \\\n",
      "0                  THE AEROSPACE CORPORATION   \n",
      "1                     SPIRIT AEROSYSTEMS INC   \n",
      "2                            MAXAR SPACE LLC   \n",
      "3  THE REGENTS OF THE UNIVERSITY OF COLORADO   \n",
      "4        BAE SYSTEMS LAND AND ARMAMENTS L.P.   \n",
      "\n",
      "                        clean_recipient_name  \\\n",
      "0                              THE AEROSPACE   \n",
      "1                         SPIRIT AEROSYSTEMS   \n",
      "2                                MAXAR SPACE   \n",
      "3  THE REGENTS OF THE UNIVERSITY OF COLORADO   \n",
      "4             BAE SYSTEMS LAND AND ARMAMENTS   \n",
      "\n",
      "                       recipient_parent_name  \\\n",
      "0                  THE AEROSPACE CORPORATION   \n",
      "1          SPIRIT AEROSYSTEMS HOLDINGS, INC.   \n",
      "2                            MAXAR SPACE LLC   \n",
      "3  THE REGENTS OF THE UNIVERSITY OF COLORADO   \n",
      "4   COMPAGNIE DE DEVELOPPEMENT DE L'EAU S.A.   \n",
      "\n",
      "                 clean_recipient_parent_name  \n",
      "0                              THE AEROSPACE  \n",
      "1                SPIRIT AEROSYSTEMS HOLDINGS  \n",
      "2                                MAXAR SPACE  \n",
      "3  THE REGENTS OF THE UNIVERSITY OF COLORADO  \n",
      "4         COMPAGNIE DE DEVELOPPEMENT DE LEAU  \n"
     ]
    }
   ],
   "source": [
    "# display a few examples from USA Spending data to verify the cleaning\n",
    "print(\"USA Spending Data:\")\n",
    "print(usa_spending[['recipient_name', 'clean_recipient_name', 'recipient_parent_name', 'clean_recipient_parent_name']].head())"
   ]
  },
  {
   "cell_type": "code",
   "execution_count": 16,
   "metadata": {},
   "outputs": [
    {
     "name": "stdout",
     "output_type": "stream",
     "text": [
      "contract_award_unique_key                          object\n",
      "award_id_piid                                      object\n",
      "total_obligated_amount                            float64\n",
      "current_total_value_of_award                      float64\n",
      "potential_total_value_of_award                    float64\n",
      "award_base_action_date                     datetime64[ns]\n",
      "award_base_action_year                              int64\n",
      "current_end_date                           datetime64[ns]\n",
      "awarding_agency_name                               object\n",
      "awarding_sub_agency_name                           object\n",
      "funding_agency_name                                object\n",
      "funding_sub_agency_name                            object\n",
      "recipient_name                                     object\n",
      "recipient_parent_name                              object\n",
      "recipient_city_name                                object\n",
      "recipient_state_code                               object\n",
      "recipient_zip_4_code                               object\n",
      "primary_place_of_performance_city_name             object\n",
      "primary_place_of_performance_state_code            object\n",
      "award_type                                         object\n",
      "type_of_contract_pricing                           object\n",
      "product_or_service_code_description                object\n",
      "naics_code                                          int64\n",
      "naics_description                                  object\n",
      "number_of_offers_received                         float64\n",
      "organizational_type                                object\n",
      "clean_recipient_name                               object\n",
      "clean_recipient_parent_name                        object\n",
      "dtype: object\n"
     ]
    }
   ],
   "source": [
    "# display the updated data types\n",
    "print(usa_spending.dtypes)"
   ]
  },
  {
   "cell_type": "code",
   "execution_count": 17,
   "metadata": {},
   "outputs": [],
   "source": [
    "# convert NAICS code to string\n",
    "usa_spending['naics_code'] = usa_spending['naics_code'].astype(str).str.zfill(6)"
   ]
  },
  {
   "cell_type": "code",
   "execution_count": 18,
   "metadata": {},
   "outputs": [],
   "source": [
    "# convert number_of_offers_received to nullable integer\n",
    "usa_spending['number_of_offers_received'] = usa_spending['number_of_offers_received'].astype('Int64')"
   ]
  },
  {
   "cell_type": "code",
   "execution_count": 19,
   "metadata": {},
   "outputs": [],
   "source": [
    "# fixing zipcodes\n",
    "def standardize_zip(zip_code):\n",
    "    zip_str = str(zip_code).zfill(5)  # pad to 5 digits\n",
    "    \n",
    "    if len(zip_str) >= 5:\n",
    "        return zip_str[:5]  # return first 5 digits for 9-digit (ZIP+4) codes\n",
    "    elif len(zip_str) == 5:\n",
    "        return zip_str  # return as-is for correct 5-digit codes\n",
    "    else:\n",
    "        return '00000'  # default to '00000' for any other case"
   ]
  },
  {
   "cell_type": "code",
   "execution_count": 20,
   "metadata": {},
   "outputs": [],
   "source": [
    "# apply to relevant column\n",
    "zip_column = ['recipient_zip_4_code']\n",
    "\n",
    "for col in zip_column:\n",
    "    usa_spending[col] = usa_spending[col].apply(standardize_zip)"
   ]
  },
  {
   "cell_type": "code",
   "execution_count": 23,
   "metadata": {},
   "outputs": [],
   "source": [
    "# rename the column\n",
    "usa_spending = usa_spending.rename(columns={'recipient_zip_4_code': 'recipient_zipcode'})"
   ]
  },
  {
   "cell_type": "code",
   "execution_count": 25,
   "metadata": {},
   "outputs": [
    {
     "name": "stdout",
     "output_type": "stream",
     "text": [
      "Index(['contract_award_unique_key', 'award_id_piid', 'total_obligated_amount',\n",
      "       'current_total_value_of_award', 'potential_total_value_of_award',\n",
      "       'award_base_action_date', 'award_base_action_year', 'current_end_date',\n",
      "       'awarding_agency_name', 'awarding_sub_agency_name',\n",
      "       'funding_agency_name', 'funding_sub_agency_name', 'recipient_name',\n",
      "       'recipient_parent_name', 'recipient_city_name', 'recipient_state_code',\n",
      "       'recipient_zipcode', 'primary_place_of_performance_city_name',\n",
      "       'primary_place_of_performance_state_code', 'award_type',\n",
      "       'type_of_contract_pricing', 'product_or_service_code_description',\n",
      "       'naics_code', 'naics_description', 'number_of_offers_received',\n",
      "       'organizational_type', 'clean_recipient_name',\n",
      "       'clean_recipient_parent_name'],\n",
      "      dtype='object')\n"
     ]
    }
   ],
   "source": [
    "# check the results\n",
    "print(usa_spending.columns)"
   ]
  },
  {
   "cell_type": "code",
   "execution_count": 26,
   "metadata": {},
   "outputs": [
    {
     "name": "stdout",
     "output_type": "stream",
     "text": [
      "\n",
      "ZIP code lengths for recipient_zipcode:\n",
      "recipient_zipcode\n",
      "5    5294\n",
      "Name: count, dtype: int64\n"
     ]
    }
   ],
   "source": [
    "# count the frequency of ZIP code lengths after standardization\n",
    "for col in ['recipient_zipcode']:\n",
    "    print(f\"\\nZIP code lengths for {col}:\")\n",
    "    print(usa_spending[col].str.len().value_counts())"
   ]
  },
  {
   "cell_type": "code",
   "execution_count": 27,
   "metadata": {},
   "outputs": [
    {
     "name": "stdout",
     "output_type": "stream",
     "text": [
      "                        contract_award_unique_key  award_id_piid  total_obligated_amount  current_total_value_of_award  potential_total_value_of_award award_base_action_date  award_base_action_year current_end_date                           awarding_agency_name                       awarding_sub_agency_name                            funding_agency_name                        funding_sub_agency_name                             recipient_name                      recipient_parent_name recipient_city_name recipient_state_code recipient_zipcode primary_place_of_performance_city_name primary_place_of_performance_state_code           award_type type_of_contract_pricing                                                         product_or_service_code_description naics_code                                                                                                   naics_description  number_of_offers_received       organizational_type                       clean_recipient_name                clean_recipient_parent_name\n",
      "0  CONT_AWD_80GRC025F7003_8000_80GSFC19D0011_8000  80GRC025F7003               109416.67                     182361.12                       182361.12             2024-10-18                    2025       2025-09-30  National Aeronautics and Space Administration  National Aeronautics and Space Administration  National Aeronautics and Space Administration  National Aeronautics and Space Administration                  THE AEROSPACE CORPORATION                  THE AEROSPACE CORPORATION          EL SEGUNDO                   CA             90245                              CLEVELAND                                      OH       DELIVERY ORDER      COST PLUS FIXED FEE      SPACE R&D SERVICES; SPACE FLIGHT, RESEARCH AND SUPPORTING ACTIVITIES; APPLIED RESEARCH     541715  RESEARCH AND DEVELOPMENT IN THE PHYSICAL, ENGINEERING, AND LIFE SCIENCES (EXCEPT NANOTECHNOLOGY AND BIOTECHNOLOGY)                          0      CORPORATE TAX EXEMPT                              THE AEROSPACE                              THE AEROSPACE\n",
      "1       CONT_AWD_HR001124C0400_9700_-NONE-_-NONE-  HR001124C0400              4500000.00                   12950335.00                     12950335.00             2024-03-13                    2024       2025-12-12                          Department of Defense      Defense Advanced Research Projects Agency                          Department of Defense      Defense Advanced Research Projects Agency                     SPIRIT AEROSYSTEMS INC          SPIRIT AEROSYSTEMS HOLDINGS, INC.             WICHITA                   KS             67210                                WICHITA                                      KS  DEFINITIVE CONTRACT      COST PLUS FIXED FEE     NATIONAL DEFENSE R&D SVCS; DEPARTMENT OF DEFENSE - MILITARY; R&D FACILITIES & MAJ EQUIP     541715  RESEARCH AND DEVELOPMENT IN THE PHYSICAL, ENGINEERING, AND LIFE SCIENCES (EXCEPT NANOTECHNOLOGY AND BIOTECHNOLOGY)                          2  CORPORATE NOT TAX EXEMPT                         SPIRIT AEROSYSTEMS                SPIRIT AEROSYSTEMS HOLDINGS\n",
      "2  CONT_AWD_80GRC024F0043_8000_80GRC019D0012_8000  80GRC024F0043               174573.00                     174573.00                       174573.00             2024-06-06                    2024       2024-08-01  National Aeronautics and Space Administration  National Aeronautics and Space Administration  National Aeronautics and Space Administration  National Aeronautics and Space Administration                            MAXAR SPACE LLC                            MAXAR SPACE LLC           PALO ALTO                   CA             94303                         EAST PALO ALTO                                      CA       DELIVERY ORDER         FIRM FIXED PRICE  SPACE R&D SVCS; SPACE FLIGHT, RESEARCH & SUPPORTING ACTIVITIES; R&D FACILITIES & MAJ EQUIP     336414                                                                      GUIDED MISSILE AND SPACE VEHICLE MANUFACTURING                          0               PARTNERSHIP                                MAXAR SPACE                                MAXAR SPACE\n",
      "3       CONT_AWD_80GSFC22CA012_8000_-NONE-_-NONE-  80GSFC22CA012              1354514.55                    3910129.00                      3910129.00             2022-08-19                    2022       2028-10-31  National Aeronautics and Space Administration  National Aeronautics and Space Administration  National Aeronautics and Space Administration  National Aeronautics and Space Administration  THE REGENTS OF THE UNIVERSITY OF COLORADO  THE REGENTS OF THE UNIVERSITY OF COLORADO             BOULDER                   CO             80309                                BOULDER                                      CO  DEFINITIVE CONTRACT         FIRM FIXED PRICE      SPACE R&D SERVICES; SPACE FLIGHT, RESEARCH AND SUPPORTING ACTIVITIES; APPLIED RESEARCH     541715  RESEARCH AND DEVELOPMENT IN THE PHYSICAL, ENGINEERING, AND LIFE SCIENCES (EXCEPT NANOTECHNOLOGY AND BIOTECHNOLOGY)                         10      US GOVERNMENT ENTITY  THE REGENTS OF THE UNIVERSITY OF COLORADO  THE REGENTS OF THE UNIVERSITY OF COLORADO\n",
      "4  CONT_AWD_W56HZV22F0217_9700_W56HZV19D0111_9700  W56HZV22F0217               150000.00                     150000.00                       150000.00             2022-05-20                    2022       2024-07-01                          Department of Defense                         Department of the Army                          Department of Defense                         Department of the Army        BAE SYSTEMS LAND AND ARMAMENTS L.P.   COMPAGNIE DE DEVELOPPEMENT DE L'EAU S.A.    STERLING HEIGHTS                   MI             48312                       STERLING HEIGHTS                                      MI       DELIVERY ORDER      COST PLUS FIXED FEE     NATIONAL DEFENSE R&D SVCS; DEPARTMENT OF DEFENSE - MILITARY; R&D FACILITIES & MAJ EQUIP     541715  RESEARCH AND DEVELOPMENT IN THE PHYSICAL, ENGINEERING, AND LIFE SCIENCES (EXCEPT NANOTECHNOLOGY AND BIOTECHNOLOGY)                          0               PARTNERSHIP             BAE SYSTEMS LAND AND ARMAMENTS         COMPAGNIE DE DEVELOPPEMENT DE LEAU\n"
     ]
    }
   ],
   "source": [
    "# print the head of the entire table\n",
    "print(usa_spending.head().to_string())"
   ]
  },
  {
   "cell_type": "code",
   "execution_count": 28,
   "metadata": {},
   "outputs": [
    {
     "name": "stdout",
     "output_type": "stream",
     "text": [
      "\n",
      "Updated Data Types:\n",
      "contract_award_unique_key                          object\n",
      "award_id_piid                                      object\n",
      "total_obligated_amount                            float64\n",
      "current_total_value_of_award                      float64\n",
      "potential_total_value_of_award                    float64\n",
      "award_base_action_date                     datetime64[ns]\n",
      "award_base_action_year                              int64\n",
      "current_end_date                           datetime64[ns]\n",
      "awarding_agency_name                               object\n",
      "awarding_sub_agency_name                           object\n",
      "funding_agency_name                                object\n",
      "funding_sub_agency_name                            object\n",
      "recipient_name                                     object\n",
      "recipient_parent_name                              object\n",
      "recipient_city_name                                object\n",
      "recipient_state_code                               object\n",
      "recipient_zipcode                                  object\n",
      "primary_place_of_performance_city_name             object\n",
      "primary_place_of_performance_state_code            object\n",
      "award_type                                         object\n",
      "type_of_contract_pricing                           object\n",
      "product_or_service_code_description                object\n",
      "naics_code                                         object\n",
      "naics_description                                  object\n",
      "number_of_offers_received                           Int64\n",
      "organizational_type                                object\n",
      "clean_recipient_name                               object\n",
      "clean_recipient_parent_name                        object\n",
      "dtype: object\n"
     ]
    }
   ],
   "source": [
    "# check the updated data types\n",
    "print(\"\\nUpdated Data Types:\")\n",
    "print(usa_spending.dtypes)"
   ]
  },
  {
   "cell_type": "markdown",
   "metadata": {},
   "source": [
    "**Output Analysis**:\n",
    "\n",
    "- **ZIP codes**: The `recipient_zipcode` column is now of type 'object', which is appropriate for preserving leading zeros in ZIP codes.\n",
    "- **Date columns**: `award_base_action_date` and `current_end_date` are in datetime64[ns] format, which is perfect for date-based analysis.\n",
    "- **Numeric columns**: `total_obligated_amount`, `current_total_value_of_award`, and `potential_total_value_of_award` are float64, which is appropriate for monetary values.\n",
    "- **Integer columns**: `award_base_action_year` is int64, and `number_of_offers_received` is Int64 (nullable integer).\n",
    "- **Categorical columns**: Most other columns are of type 'object', which is suitable for categorical data.\n",
    "- **Clean company names**: The `clean_recipient_name` and `clean_recipient_parent_name` columns have been added, which will be useful for matching with the Crunchbase data. We will keep the original column for reference.\n",
    "- **NAICS code**: The `naics_code` column is now of type 'object', which preserves any leading zeros in the codes.\n",
    "\n",
    "We can proceed with saving our results."
   ]
  },
  {
   "cell_type": "code",
   "execution_count": 29,
   "metadata": {},
   "outputs": [],
   "source": [
    "# save the cleaned data\n",
    "usa_spending.to_csv('cleaned_usa_spending_data.csv', index=False)"
   ]
  }
 ],
 "metadata": {
  "kernelspec": {
   "display_name": "new_env",
   "language": "python",
   "name": "python3"
  },
  "language_info": {
   "codemirror_mode": {
    "name": "ipython",
    "version": 3
   },
   "file_extension": ".py",
   "mimetype": "text/x-python",
   "name": "python",
   "nbconvert_exporter": "python",
   "pygments_lexer": "ipython3",
   "version": "3.8.15"
  }
 },
 "nbformat": 4,
 "nbformat_minor": 2
}
