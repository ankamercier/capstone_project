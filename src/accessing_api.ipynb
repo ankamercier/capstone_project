{
 "cells": [
  {
   "cell_type": "markdown",
   "metadata": {},
   "source": [
    "#### **What is Crunchbase**?\n",
    " In simple terms it is a platform that helps users get all the information about companies all over the world. It includes information such as Revenue, Investors, Number of employees, contact information, and more. \n",
    " For my use case, I would need to pull data on space startups from Crunchbase API. You can visit [Cruncbase Data](https://data.crunchbase.com/docs/getting-started) to get a complete list of data points as a reference.\n",
    "\n",
    " #### Step 1: Get Crunchbase API key and request URL"
   ]
  },
  {
   "cell_type": "markdown",
   "metadata": {},
   "source": [
    "The API URL will be of the following format:\n",
    "\n",
    "`https://api.crunchbase.com/api/v4/entities/organizations/crunchbase?user_key=INSERT_YOUR_API_KEY_HERE`\n",
    "\n",
    "Since I am searching for organizations in aerospace, I will be using “POST /search/organizations” URL.\n",
    "\n",
    "Here is the full list of filters I used:\n",
    "- **description keywords**: `space deterrence`, `space force`, `space-based sensors`, `orbital`, `counterspace`, `missile defense`, `space`, `space-based`, `anti-satellite`\n",
    "- **headquarters location**: `United States`\n",
    "- **industry**: `Manufacturing`, `Robotics`, `Artificial Intelligence (AI)`, `Information Technology`, `National Security`, `Satellite Communications`, `Aerospace`\n",
    "- **founded**: `custom date range 2015-2024`\n",
    "\n",
    "Filtering produced 908 results."
   ]
  },
  {
   "cell_type": "markdown",
   "metadata": {},
   "source": [
    "#### Step 2: Request data using Python"
   ]
  },
  {
   "cell_type": "markdown",
   "metadata": {},
   "source": [
    "Import all necessary packages"
   ]
  },
  {
   "cell_type": "code",
   "execution_count": null,
   "metadata": {},
   "outputs": [],
   "source": [
    "# we will use request module to send an API request to Crunchbase\n",
    "import requests\n",
    "import json\n",
    "import pandas as pd\n",
    "from pandas.io.json import json_normalize \n",
    "from dotenv import load_dotenv\n",
    "import os"
   ]
  },
  {
   "cell_type": "markdown",
   "metadata": {},
   "source": [
    "Define API user key"
   ]
  },
  {
   "cell_type": "code",
   "execution_count": null,
   "metadata": {},
   "outputs": [],
   "source": [
    "# I used .env file to keep my key save\n",
    "\n",
    "API_KEY = os.getenv('CRUNCHBASE_API_KEY')\n",
    "\n",
    "# API endpoint\n",
    "BASE_URL = 'https://api.crunchbase.com/api/v4/searches/organizations'"
   ]
  },
  {
   "cell_type": "markdown",
   "metadata": {},
   "source": [
    "Define search query parameters"
   ]
  },
  {
   "cell_type": "code",
   "execution_count": null,
   "metadata": {},
   "outputs": [],
   "source": [
    "query = {\n",
    "    \"field_ids\": [\n",
    "        \"name\",\n",
    "        \"founded_on\",\n",
    "        \"categories\",\n",
    "        \"location_identifiers\",\n",
    "        \"postal_code\",\n",
    "        \"short_description\",\n",
    "        \"operating_status\",\n",
    "        \"rank_org\",\n",
    "        \"funding_stage\",\n",
    "        \"last_funding_date\",\n",
    "        \"last_funding_type\",\n",
    "        \"acquired_by\",\n",
    "        \"acquisition_price\",\n",
    "        \"ipo_status\",\n",
    "        \"ipo_valuation\",\n",
    "        \"ipo_date\",\n",
    "        \"estimated_revenue_range\",\n",
    "        \"num_employees_enum\",\n",
    "        \"num_funding_rounds\",\n",
    "        \"funding_total\",\n",
    "        \"investor_types\",\n",
    "        \"last_equity_funding_type\",\n",
    "        \"num_lead_investors\"\n",
    "    ],\n",
    "    \"limit\": 1000,\n",
    "    \"query\": [\n",
    "        {\n",
    "            \"type\": \"predicate\",\n",
    "            \"field_id\": \"location_identifiers\",\n",
    "            \"operator_id\": \"includes\",\n",
    "            \"values\": [\n",
    "                \"502465b7609bc908c96be2b362a676b1\"  # UUID for United States\n",
    "            ]\n",
    "        },\n",
    "        {\n",
    "            \"type\": \"predicate\",\n",
    "            \"field_id\": \"categories\",\n",
    "            \"operator_id\": \"includes\",\n",
    "            \"values\": [\n",
    "                \"manufacturing\",\n",
    "                \"robotics\",\n",
    "                \"artificial intelligence\",\n",
    "                \"information technology\",\n",
    "                \"national security\",\n",
    "                \"satellite communications\",\n",
    "                \"aerospace\"\n",
    "            ]\n",
    "        },\n",
    "        {\n",
    "            \"type\": \"predicate\",\n",
    "            \"field_id\": \"founded_on\",\n",
    "            \"operator_id\": \"between\",\n",
    "            \"values\": [\n",
    "                \"2015-01-01\",\n",
    "                \"2024-12-31\"\n",
    "            ]\n",
    "        },\n",
    "        {\n",
    "            \"type\": \"predicate\",\n",
    "            \"field_id\": \"short_description\",\n",
    "            \"operator_id\": \"contains\",\n",
    "            \"values\": [\n",
    "                \"space deterrence\",\n",
    "                \"space force\",\n",
    "                \"space-based sensors\",\n",
    "                \"orbital\",\n",
    "                \"counterspace\",\n",
    "                \"missile defense\",\n",
    "                \"space\",\n",
    "                \"space-based\",\n",
    "                \"anti-satellite\"\n",
    "            ]\n",
    "        },\n",
    "        {\n",
    "            \"type\": \"predicate\",\n",
    "            \"field_id\": \"facet_ids\",\n",
    "            \"operator_id\": \"includes\",\n",
    "            \"values\": [\n",
    "                \"company\"\n",
    "            ]\n",
    "        }\n",
    "    ]\n",
    "}"
   ]
  },
  {
   "cell_type": "markdown",
   "metadata": {},
   "source": [
    "**To get UUID of anything**:\n",
    "\n",
    "Go to SwaggerHub -> GET /autocomplete -> Click “Try it out” -> type in query in the querybox -> Execute -> copy the UUID in response body.\n",
    "\n"
   ]
  },
  {
   "cell_type": "markdown",
   "metadata": {},
   "source": [
    "#### Step 3: Create functions that will return our companies and extract data. \n",
    "After that, we can save it to Pandas df."
   ]
  },
  {
   "cell_type": "code",
   "execution_count": null,
   "metadata": {},
   "outputs": [],
   "source": [
    "# initializing an empty DataFrame to store all results\n",
    "raw = pd.DataFrame()\n",
    "\n",
    "# functions\n",
    "def company_count(query):\n",
    "    headers = {\n",
    "        \"X-cb-user-key\": API_KEY,\n",
    "        \"Content-Type\": \"application/json\"\n",
    "    }\n",
    "    r = requests.post(\"https://api.crunchbase.com/api/v4/searches/organizations\", headers=headers, json=query)\n",
    "    result = json.loads(r.text)\n",
    "    total_companies = result.get(\"count\", 0)\n",
    "    return total_companies\n",
    "\n",
    "def url_extraction(query):\n",
    "    global raw\n",
    "    headers = {\n",
    "        \"X-cb-user-key\": API_KEY,\n",
    "        \"Content-Type\": \"application/json\"\n",
    "    }\n",
    "    \n",
    "    # initializing variables for pagination\n",
    "    page = 1\n",
    "    has_next_page = True\n",
    "    \n",
    "    while has_next_page:\n",
    "        query['page'] = page\n",
    "        r = requests.post(\"https://api.crunchbase.com/api/v4/searches/organizations\", headers=headers, json=query)\n",
    "        result = json.loads(r.text)\n",
    "        \n",
    "        if 'entities' in result:\n",
    "            normalized_raw = json_normalize(result['entities'])\n",
    "            raw = pd.concat([raw, normalized_raw], ignore_index=True)\n",
    "            \n",
    "            # Check if there's a next page\n",
    "            has_next_page = result.get('next_page_url') is not None\n",
    "            page += 1\n",
    "        else:\n",
    "            has_next_page = False\n",
    "        \n",
    "    return raw"
   ]
  },
  {
   "cell_type": "code",
   "execution_count": null,
   "metadata": {},
   "outputs": [],
   "source": [
    "# getting the total count of companies\n",
    "total = company_count(query)\n",
    "print(f\"Total number of companies: {total}\")"
   ]
  },
  {
   "cell_type": "code",
   "execution_count": null,
   "metadata": {},
   "outputs": [],
   "source": [
    "# extracting data for all companies\n",
    "data = url_extraction(query)\n",
    "print(f\"Number of companies extracted: {len(data)}\")"
   ]
  },
  {
   "cell_type": "code",
   "execution_count": null,
   "metadata": {},
   "outputs": [],
   "source": [
    "# saving the data to a CSV file\n",
    "data.to_csv(\"space_startups.csv\", index=False)\n",
    "print(\"Data saved to space_startups.csv\")"
   ]
  },
  {
   "cell_type": "markdown",
   "metadata": {},
   "source": [
    "This notebook contains purely the steps taken to extract data and save it to csv, without output. For data cleaning steps, please check `cleaning_data.ipynb`."
   ]
  },
  {
   "cell_type": "markdown",
   "metadata": {},
   "source": []
  }
 ],
 "metadata": {
  "kernelspec": {
   "display_name": "new_env",
   "language": "python",
   "name": "python3"
  },
  "language_info": {
   "name": "python",
   "version": "3.8.15"
  }
 },
 "nbformat": 4,
 "nbformat_minor": 2
}
