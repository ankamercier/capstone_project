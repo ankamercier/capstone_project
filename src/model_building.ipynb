{
 "cells": [
  {
   "cell_type": "markdown",
   "metadata": {},
   "source": [
    "#### Step 1: Feature Engineering\n",
    "\n",
    "\n",
    "**From Startup Data**\n",
    "\n",
    "<br>**Time Since Founding**: Calculate the number of years since the founding date."
   ]
  },
  {
   "cell_type": "code",
   "execution_count": 1,
   "metadata": {},
   "outputs": [],
   "source": [
    "import pandas as pd\n",
    "from datetime import datetime"
   ]
  },
  {
   "cell_type": "markdown",
   "metadata": {},
   "source": [
    "We would now repeat data cleaning steps as before."
   ]
  },
  {
   "cell_type": "code",
   "execution_count": 4,
   "metadata": {},
   "outputs": [],
   "source": [
    "# load datasets\n",
    "matched_data = pd.read_csv('C:/Users/AM/OneDrive/Desktop/capstone/data/cleaned/matched_data.csv')\n",
    "usa_spending = pd.read_csv('C:/Users/AM/OneDrive/Desktop/capstone/data/cleaned/cleaned_usa_spending_data.csv')\n",
    "crunchbase = pd.read_csv('C:/Users/AM/OneDrive/Desktop/capstone/data/cleaned/cleaned_crunchbase_data.csv')"
   ]
  },
  {
   "cell_type": "code",
   "execution_count": 5,
   "metadata": {},
   "outputs": [],
   "source": [
    "# create a set of matched companies for faster lookup\n",
    "matched_companies = set(matched_data['match_company'].dropna())"
   ]
  },
  {
   "cell_type": "code",
   "execution_count": 6,
   "metadata": {},
   "outputs": [],
   "source": [
    "# define a function to check if a company or its parent is in the matched set\n",
    "def is_new_awardee(row):\n",
    "    return int(row['clean_recipient_name'] in matched_companies or \n",
    "               row['clean_recipient_parent_name'] in matched_companies)"
   ]
  },
  {
   "cell_type": "code",
   "execution_count": 7,
   "metadata": {},
   "outputs": [],
   "source": [
    "# apply the function to create the new binary column\n",
    "usa_spending['is_new_awardee'] = usa_spending.apply(is_new_awardee, axis=1)"
   ]
  },
  {
   "cell_type": "code",
   "execution_count": 8,
   "metadata": {},
   "outputs": [],
   "source": [
    "# convert funding_date to datetime, coercing errors to NaT\n",
    "crunchbase['funding_year'] = pd.to_datetime(crunchbase['funding_date'], errors='coerce').dt.year\n",
    "\n",
    "# use year_founded when funding_date is '0'\n",
    "crunchbase.loc[crunchbase['funding_date'] == '0', 'funding_year'] = crunchbase['year_founded']\n",
    "\n",
    "# ensure year_founded is numeric\n",
    "crunchbase['year_founded'] = pd.to_numeric(crunchbase['year_founded'], errors='coerce')"
   ]
  },
  {
   "cell_type": "code",
   "execution_count": 9,
   "metadata": {},
   "outputs": [],
   "source": [
    "# fix the 1917 typo\n",
    "crunchbase.loc[crunchbase['funding_year'] == 1917, 'funding_year'] = 2017"
   ]
  },
  {
   "cell_type": "code",
   "execution_count": 11,
   "metadata": {},
   "outputs": [],
   "source": [
    "# 'crunchbase' is our DataFrame containing startup data\n",
    "crunchbase['year_founded'] = pd.to_datetime(crunchbase['year_founded'])\n",
    "crunchbase['time_since_founding'] = (datetime.now() - crunchbase['year_founded']).dt.days / 365.25\n"
   ]
  },
  {
   "cell_type": "markdown",
   "metadata": {},
   "source": [
    "**Funding Growth Rate**: Calculate the growth rate of funding over time."
   ]
  },
  {
   "cell_type": "code",
   "execution_count": 14,
   "metadata": {},
   "outputs": [],
   "source": [
    "crunchbase['funding_growth_rate'] = crunchbase['total_funding'] / crunchbase['num_funding_rounds']"
   ]
  },
  {
   "cell_type": "markdown",
   "metadata": {},
   "source": [
    "**Last Funding Date**: Convert the last funding date to a datetime object and calculate time since last funding."
   ]
  },
  {
   "cell_type": "code",
   "execution_count": 16,
   "metadata": {},
   "outputs": [
    {
     "name": "stdout",
     "output_type": "stream",
     "text": [
      "Unique values in funding_date:\n",
      "['2020-01-27' '2020-09-22' '2020-09-11' '0' '2019-02-04' '2024-04-03'\n",
      " '2017-07-28' '2021-11-10' '2022-06-21' '2020-06-01' '2017-01-01'\n",
      " '2020-10-01' '2024-05-21' '2024-07-12' '2021-12-07' '2020-03-02'\n",
      " '2018-04-20' '2021-01-01' '2024-05-22' '2020-01-01' '2021-10-26'\n",
      " '2021-06-29' '2022-10-20' '2020-03-20' '2023-09-25' '2018-05-23'\n",
      " '2020-12-17' '2017-05-30' '2017-02-24' '2016-03-04' '2022-05-11'\n",
      " '2023-01-10' '2023-01-31' '2022-01-19' '2018-10-23' '2021-12-08'\n",
      " '2018-06-25' '2021-11-08' '2021-03-24' '2022-07-25' '2022-05-24'\n",
      " '2023-04-19' '2020-04-28' '2023-11-08' '2020-01-06' '2024-04-23'\n",
      " '2018-12-27' '2022-09-14' '2022-11-29' '2024-02-14' '2023-10-05'\n",
      " '2020-11-06' '2022-10-11' '2023-12-05' '2023-07-06' '2023-10-18'\n",
      " '2023-12-20' '2021-04-26' '2022-11-04' '2020-05-01' '2023-04-11'\n",
      " '2019-05-31' '2020-10-19' '2021-09-03' '2024-10-03' '2024-04-05'\n",
      " '2024-03-18' '2023-12-12' '2022-05-26' '2023-04-18' '2022-10-27'\n",
      " '2023-12-19' '2023-03-09' '2023-09-08' '2023-09-11' '2023-09-12'\n",
      " '2022-06-28' '2024-10-22' '2024-09-23' '2024-08-05' '2024-06-04'\n",
      " '2024-06-25' '2022-11-17' '2022-06-20' '2022-06-14' '2023-06-05'\n",
      " '2022-08-30' '2021-05-28' '2024-08-31' '2021-09-07' '2020-08-30'\n",
      " '2022-07-01' '2023-06-20' '2023-08-10' '2022-05-31' '2022-11-07'\n",
      " '2024-06-13' '2021-04-01' '2022-12-15' '2023-06-06' '2019-09-11'\n",
      " '2018-03-13' '2016-08-23' '2019-06-10' '2017-03-02' '2017-05-10'\n",
      " '2018-06-19' '2017-01-20' '2021-06-09' '2022-04-29' '2020-09-01'\n",
      " '2019-10-08' '2023-01-01' '2019-01-01' '2020-04-30' '2018-11-26'\n",
      " '2022-08-02' '2024-04-09' '2018-07-30' '2023-03-07' '2022-06-17'\n",
      " '2023-03-15' '2023-10-10' '2020-08-01' '2021-11-12' '2022-09-01'\n",
      " '2024-01-08' '2019-10-01' '2021-11-09' '2021-06-18' '2021-12-31'\n",
      " '2022-01-10' '2021-11-16' '2021-02-05' '2021-08-12' '2023-05-18'\n",
      " '2023-02-14' '2021-08-19' '2024-05-06' '2023-04-10' '2023-08-09'\n",
      " '2022-12-07' '2024-09-13' '2024-09-27' '2021-06-20' '2023-04-04'\n",
      " '2024-10-24' '2021-04-20' '2024-10-25' '2021-10-28' '2017-08-03'\n",
      " '2021-02-08' '2019-05-01' '2024-04-04' '2017-03-01' '2019-04-01'\n",
      " '2020-08-25' '2016-12-01' '2023-11-20' '2019-07-31' '2015-07-27'\n",
      " '2024-04-01' '2022-03-27' '2023-04-20' '2023-11-06' '2018-12-07'\n",
      " '2023-11-02' '2022-04-01' '2022-01-04' '2020-01-10' '2022-04-06'\n",
      " '2021-02-01' '2023-08-15' '2018-06-01' '2024-01-01' '2024-02-22'\n",
      " '2022-07-31' '2022-08-09' '2017-02-09' '2021-03-01' '2021-11-07'\n",
      " '2022-03-24' '2020-06-02' '2018-07-25' '2018-08-01' '2017-10-01'\n",
      " '2023-12-07' '2022-03-01' '2022-08-18' '2018-01-01' '2021-03-02'\n",
      " '2021-09-21' '2023-05-09' '2019-03-30' '2020-08-27' '2024-02-12'\n",
      " '2019-08-08' '2023-09-06' '2020-08-07' '2023-08-01' '2020-08-28'\n",
      " '2018-12-01' '2022-09-09' '2019-05-16' '2019-12-12' '2018-06-06'\n",
      " '2016-11-01' '1917-07-17' '2023-08-24' '2021-09-10' '2024-10-17'\n",
      " '2023-06-22' '2022-08-16' '2022-02-24' '2022-11-01' '2023-11-15'\n",
      " '2023-02-02' '2019-07-01' '2024-10-01' '2018-10-31' '2018-12-25'\n",
      " '2024-02-21' '2019-07-15' '2024-03-13' '2024-04-14' '2023-06-01'\n",
      " '2020-04-22' '2021-06-02' '2022-07-13' '2021-07-18' '2021-08-10'\n",
      " '2023-07-10' '2024-07-10' '2024-05-07' '2020-05-06' '2018-10-19'\n",
      " '2024-09-10' '2024-03-11' '2018-12-12' '2021-10-18' '2018-05-02'\n",
      " '2021-01-15' '2024-08-20' '2022-04-14' '2022-09-10' '2020-01-21'\n",
      " '2024-09-26' '2024-03-07' '2024-09-25' '2024-09-19' '2023-10-12'\n",
      " '2022-07-26' '2023-09-19' '2020-01-13' '2022-03-29' '2023-03-10'\n",
      " '2023-10-16' '2022-03-15' '2021-10-21' '2023-03-28' '2023-02-03'\n",
      " '2021-11-18' '2023-09-26' '2024-07-22' '2024-01-23' '2024-01-19'\n",
      " '2020-11-12' '2024-06-18' '2019-08-15' '2018-07-09' '2023-02-23'\n",
      " '2024-09-12' '2019-06-05' '2021-08-06' '2023-08-21' '2021-10-01'\n",
      " '2020-11-10' '2024-02-26' '2022-07-11' '2023-12-08' '2021-04-05'\n",
      " '2017-04-18' '2024-04-30' '2022-07-05' '2022-03-06' '2018-11-07'\n",
      " '2022-09-25' '2017-05-25' '2019-11-07' '2023-07-11' '2019-09-01'\n",
      " '2016-06-01' '2022-01-01' '2016-01-26' '2023-05-24' '2023-10-11'\n",
      " '2023-04-07' '2024-09-04' '2022-12-01' '2022-04-26' '2022-03-30'\n",
      " '2021-09-18' '2020-03-25' '2017-08-14' '2018-10-09' '2022-07-15'\n",
      " '2022-09-08' '2021-09-01' '2024-01-24' '2020-06-05' '2021-09-08'\n",
      " '2018-06-15' '2023-05-15' '2021-12-13' '2023-01-18' '2020-03-23'\n",
      " '2024-02-02' '2021-11-30' '2018-04-30' '2022-05-16' '2023-12-29'\n",
      " '2021-02-22' '2021-11-29' '2023-09-15' '2024-05-03' '2023-01-19'\n",
      " '2020-07-24' '2016-02-15' '2018-11-12' '2024-01-25' '2024-04-02'\n",
      " '2018-07-01' '2023-04-25' '2022-11-15' '2024-03-06' '2024-08-19'\n",
      " '2022-10-25' '2021-01-05' '2016-08-03' '2024-02-07' '2020-02-12'\n",
      " '2022-11-03' '2019-12-15' '2022-10-17' '2023-05-02' '2021-08-01'\n",
      " '2024-07-24' '2022-06-09' '2021-02-09' '2017-11-02' '2022-08-15'\n",
      " '2015-10-20' '2021-07-19' '2022-03-14' '2017-02-28' '2021-11-04'\n",
      " '2022-03-11' '2023-10-22' '2022-09-07' '2018-10-02' '2023-05-08'\n",
      " '2017-04-12']\n"
     ]
    }
   ],
   "source": [
    "# inspect unique values in funding_date\n",
    "print(\"Unique values in funding_date:\")\n",
    "print(crunchbase['funding_date'].unique())"
   ]
  },
  {
   "cell_type": "code",
   "execution_count": 17,
   "metadata": {},
   "outputs": [],
   "source": [
    "# clean the funding_date column\n",
    "# replace invalid entries with NaT (Not a Time) or drop them\n",
    "crunchbase['funding_date'] = pd.to_datetime(crunchbase['funding_date'], errors='coerce')"
   ]
  },
  {
   "cell_type": "code",
   "execution_count": 18,
   "metadata": {},
   "outputs": [
    {
     "name": "stdout",
     "output_type": "stream",
     "text": [
      "Invalid dates found and replaced with NaT:\n",
      "          company_name                  year_founded  \\\n",
      "3               TATINE 1970-01-01 00:00:00.000002015   \n",
      "4                  X3M 1970-01-01 00:00:00.000002022   \n",
      "5                Duext 1970-01-01 00:00:00.000002016   \n",
      "8               BLAKFX 1970-01-01 00:00:00.000002017   \n",
      "9       Reactive Space 1970-01-01 00:00:00.000002017   \n",
      "..                 ...                           ...   \n",
      "888      Babylon Voice 1970-01-01 00:00:00.000002022   \n",
      "892  Drifting in Space 1970-01-01 00:00:00.000002022   \n",
      "894         Towards AI 1970-01-01 00:00:00.000002019   \n",
      "896       Atlantic Hub 1970-01-01 00:00:00.000002018   \n",
      "903              Aeone 1970-01-01 00:00:00.000002023   \n",
      "\n",
      "                                            Industries  \\\n",
      "3     E-Commerce, Home Decor, Manufacturing, Wholesale   \n",
      "4    Advertising, Advertising Platforms, Informatio...   \n",
      "5    Copywriting, Information Technology, Internet,...   \n",
      "8    Blockchain, Cloud Security, Cryptocurrency, Cy...   \n",
      "9    Agriculture, Blockchain, Data Visualization, E...   \n",
      "..                                                 ...   \n",
      "888  Artificial Intelligence (AI), Audio, Biometric...   \n",
      "892  Information Technology, IT Infrastructure, Sof...   \n",
      "894  Artificial Intelligence (AI), Big Data, Collab...   \n",
      "896  Information Technology, Infrastructure, Power ...   \n",
      "903  Consumer Software, Enterprise Software, Inform...   \n",
      "\n",
      "                                            hq  zipcode  \\\n",
      "3             Chicago, Illinois, United States    60639   \n",
      "4          Wilmington, Delaware, United States    19801   \n",
      "5            New York, New York, United States    10036   \n",
      "8           Chester, New Jersey, United States     7930   \n",
      "9            Totowa, New Jersey, United States     7512   \n",
      "..                                         ...      ...   \n",
      "888          New York, New York, United States    10010   \n",
      "892          New York, New York, United States    10004   \n",
      "894          New York, New York, United States    10003   \n",
      "896  Londonderry, New Hampshire, United States     3053   \n",
      "903         Seattle, Washington, United States    98101   \n",
      "\n",
      "                                           description operating_status  \\\n",
      "3        TATINE manufactures and sells candles online.           Active   \n",
      "4    X3M improves ad monetization on mobile, giving...           Active   \n",
      "5    Duext Virtual Assistants helps grow in the dig...           Active   \n",
      "8    BLAKFX provides sophisticated cyber security s...           Active   \n",
      "9    Our rich mix of Enterprise , SME and startup e...           Active   \n",
      "..                                                 ...              ...   \n",
      "888  Voice AI that provides a secure, deep learning...           Active   \n",
      "892  Drifting in Space develops server infrastructu...           Active   \n",
      "894  Towards AI is the leading AI community and con...           Active   \n",
      "896  Atlantic Hub provides a flexible design strate...           Active   \n",
      "903  Aeone is a sofware company that provides sofwa...           Active   \n",
      "\n",
      "     cb_rank funding_status funding_date  ... num_investors  \\\n",
      "3     766720              0          NaT  ...             0   \n",
      "4    1900792              0          NaT  ...             0   \n",
      "5     813646              0          NaT  ...             0   \n",
      "8    3151162              0          NaT  ...             0   \n",
      "9     956916              0          NaT  ...             0   \n",
      "..       ...            ...          ...  ...           ...   \n",
      "888  2871604              0          NaT  ...             0   \n",
      "892   103134           Seed          NaT  ...            17   \n",
      "894   465640              0          NaT  ...             0   \n",
      "896   208772            M&A          NaT  ...             0   \n",
      "903  1836310              0          NaT  ...             0   \n",
      "\n",
      "    operating_status_binary num_employees_cat         clean_name         city  \\\n",
      "3                         1              1-10             TATINE      Chicago   \n",
      "4                         1            51-100                X3M   Wilmington   \n",
      "5                         1              1-10              DUEXT     New York   \n",
      "8                         1           251-500             BLAKFX      Chester   \n",
      "9                         1            51-100     REACTIVE SPACE       Totowa   \n",
      "..                      ...               ...                ...          ...   \n",
      "888                       1              1-10      BABYLON VOICE     New York   \n",
      "892                       1              1-10  DRIFTING IN SPACE     New York   \n",
      "894                       1              1-10         TOWARDS AI     New York   \n",
      "896                       1              1-10       ATLANTIC HUB  Londonderry   \n",
      "903                       1              1-10              AEONE      Seattle   \n",
      "\n",
      "             state        country  funding_year  time_since_founding  \\\n",
      "3         Illinois  United States        2015.0            54.830938   \n",
      "4         Delaware  United States        2022.0            54.830938   \n",
      "5         New York  United States        2016.0            54.830938   \n",
      "8       New Jersey  United States        2017.0            54.830938   \n",
      "9       New Jersey  United States        2017.0            54.830938   \n",
      "..             ...            ...           ...                  ...   \n",
      "888       New York  United States        2022.0            54.830938   \n",
      "892       New York  United States        2022.0            54.830938   \n",
      "894       New York  United States        2019.0            54.830938   \n",
      "896  New Hampshire  United States        2018.0            54.830938   \n",
      "903     Washington  United States        2023.0            54.830938   \n",
      "\n",
      "    funding_growth_rate  \n",
      "3                   NaN  \n",
      "4                   NaN  \n",
      "5                   NaN  \n",
      "8                   NaN  \n",
      "9                   NaN  \n",
      "..                  ...  \n",
      "888                 NaN  \n",
      "892           1500000.0  \n",
      "894                 NaN  \n",
      "896                 NaN  \n",
      "903                 NaN  \n",
      "\n",
      "[482 rows x 27 columns]\n",
      "Updated crunchbase DataFrame:\n",
      "           company_name last_funding_date  time_since_last_funding\n",
      "0                DIMAAG        2020-01-27                   1739.0\n",
      "1               Netdata        2020-09-22                   1500.0\n",
      "2  Outward Technologies        2020-09-11                   1511.0\n",
      "3                TATINE               NaT                      NaN\n",
      "4                   X3M               NaT                      NaN\n"
     ]
    }
   ],
   "source": [
    "# check for any NaT values after conversion\n",
    "invalid_dates = crunchbase[crunchbase['funding_date'].isna()]\n",
    "if not invalid_dates.empty:\n",
    "    print(\"Invalid dates found and replaced with NaT:\")\n",
    "    print(invalid_dates)\n",
    "\n",
    "# calculate time since last funding if needed\n",
    "crunchbase['last_funding_date'] = crunchbase['funding_date']\n",
    "crunchbase['time_since_last_funding'] = (pd.Timestamp.now() - crunchbase['last_funding_date']).dt.days\n",
    "\n",
    "# print the updated DataFrame or its shape to confirm changes\n",
    "print(\"Updated crunchbase DataFrame:\")\n",
    "print(crunchbase[['company_name', 'last_funding_date', 'time_since_last_funding']].head())"
   ]
  },
  {
   "cell_type": "markdown",
   "metadata": {},
   "source": [
    "**From Defense Contractor Data**\n",
    "\n",
    "<br>**Average Contract Value**: Calculate the average contract value for each company."
   ]
  },
  {
   "cell_type": "code",
   "execution_count": 21,
   "metadata": {},
   "outputs": [],
   "source": [
    "# assuming 'usa_spending' is your DataFrame\n",
    "\n",
    "# calculate average contract value for each company and add it as a new column\n",
    "usa_spending['avg_contract_value'] = usa_spending.groupby('clean_recipient_name')['total_obligated_amount'].transform('mean')\n",
    "\n",
    "# now usa_spending has a new column 'avg_contract_value' for each company"
   ]
  },
  {
   "cell_type": "markdown",
   "metadata": {},
   "source": [
    "**Number of Contracts**: Count the number of contracts awarded to each company."
   ]
  },
  {
   "cell_type": "code",
   "execution_count": 22,
   "metadata": {},
   "outputs": [],
   "source": [
    "# count the number of contracts for each company\n",
    "contract_counts = usa_spending['clean_recipient_name'].value_counts().reset_index()\n",
    "contract_counts.columns = ['company_name', 'num_contracts']\n",
    "\n",
    "# add this information back to the original DataFrame\n",
    "usa_spending = usa_spending.merge(contract_counts, left_on='clean_recipient_name', right_on='company_name', how='left')\n",
    "\n",
    "# now usa_spending has a new column 'num_contracts' for each company"
   ]
  },
  {
   "cell_type": "code",
   "execution_count": 23,
   "metadata": {},
   "outputs": [
    {
     "name": "stdout",
     "output_type": "stream",
     "text": [
      "                                        company_name  num_contracts\n",
      "0                                      THE AEROSPACE            297\n",
      "1                  THE PENNSYLVANIA STATE UNIVERSITY            240\n",
      "2                 CALIFORNIA INSTITUTE OF TECHNOLOGY            214\n",
      "3                                             LEIDOS            103\n",
      "4            THE UNIVERSITY OF ALABAMA IN HUNTSVILLE             96\n",
      "5  THE JOHNS HOPKINS UNIVERSITY APPLIED PHYSICS L...             91\n",
      "6                                    LOCKHEED MARTIN             81\n",
      "7                           NORTHROP GRUMMAN SYSTEMS             76\n",
      "8                 SCIENCE APPLICATIONS INTERNATIONAL             49\n",
      "9                                         THE BOEING             45\n"
     ]
    }
   ],
   "source": [
    "# let's see the top companies by number of contracts:\n",
    "print(contract_counts.head(10))"
   ]
  },
  {
   "cell_type": "code",
   "execution_count": 24,
   "metadata": {},
   "outputs": [
    {
     "name": "stdout",
     "output_type": "stream",
     "text": [
      "\n",
      "Number of contracts for LOCKHEED MARTIN: 81\n"
     ]
    }
   ],
   "source": [
    "# let's check the distribution of contracts for a specific company:\n",
    "company_name = \"LOCKHEED MARTIN\"  # Replace with any company name you're interested in\n",
    "company_contracts = usa_spending[usa_spending['clean_recipient_name'] == company_name]\n",
    "print(f\"\\nNumber of contracts for {company_name}: {company_contracts['num_contracts'].iloc[0]}\")"
   ]
  },
  {
   "cell_type": "markdown",
   "metadata": {},
   "source": [
    "#### Step 2: Machine Learning Model\n",
    "\n",
    "**Classification Model**:\n",
    "To predict whether a startup is likely to receive a defense contract based on its characteristics, we can implement a classification model. Next steps:\n",
    "<br>1. **Data Preparation**\n",
    "<br>2. **Model Selection**\n",
    "<br>3. **Training and Evaluation**"
   ]
  },
  {
   "cell_type": "code",
   "execution_count": 32,
   "metadata": {},
   "outputs": [
    {
     "name": "stdout",
     "output_type": "stream",
     "text": [
      "Collecting imblearnNote: you may need to restart the kernel to use updated packages.\n",
      "\n",
      "  Downloading imblearn-0.0-py2.py3-none-any.whl.metadata (355 bytes)\n",
      "Collecting imbalanced-learn (from imblearn)\n",
      "  Downloading imbalanced_learn-0.12.4-py3-none-any.whl.metadata (8.3 kB)\n",
      "Requirement already satisfied: numpy>=1.17.3 in c:\\users\\am\\anaconda3\\envs\\new_env\\lib\\site-packages (from imbalanced-learn->imblearn) (1.24.4)\n",
      "Requirement already satisfied: scipy>=1.5.0 in c:\\users\\am\\anaconda3\\envs\\new_env\\lib\\site-packages (from imbalanced-learn->imblearn) (1.10.1)\n",
      "Requirement already satisfied: scikit-learn>=1.0.2 in c:\\users\\am\\anaconda3\\envs\\new_env\\lib\\site-packages (from imbalanced-learn->imblearn) (1.3.2)\n",
      "Requirement already satisfied: joblib>=1.1.1 in c:\\users\\am\\anaconda3\\envs\\new_env\\lib\\site-packages (from imbalanced-learn->imblearn) (1.4.2)\n",
      "Requirement already satisfied: threadpoolctl>=2.0.0 in c:\\users\\am\\anaconda3\\envs\\new_env\\lib\\site-packages (from imbalanced-learn->imblearn) (3.5.0)\n",
      "Downloading imblearn-0.0-py2.py3-none-any.whl (1.9 kB)\n",
      "Downloading imbalanced_learn-0.12.4-py3-none-any.whl (258 kB)\n",
      "Installing collected packages: imbalanced-learn, imblearn\n",
      "Successfully installed imbalanced-learn-0.12.4 imblearn-0.0\n"
     ]
    }
   ],
   "source": [
    "pip install imblearn"
   ]
  },
  {
   "cell_type": "code",
   "execution_count": 27,
   "metadata": {},
   "outputs": [],
   "source": [
    "import numpy as np"
   ]
  },
  {
   "cell_type": "code",
   "execution_count": 34,
   "metadata": {},
   "outputs": [],
   "source": [
    "from sklearn.model_selection import train_test_split\n",
    "from sklearn.ensemble import RandomForestClassifier\n",
    "from sklearn.metrics import classification_report\n",
    "from sklearn.preprocessing import StandardScaler\n",
    "from imblearn.over_sampling import SMOTE"
   ]
  },
  {
   "cell_type": "code",
   "execution_count": 30,
   "metadata": {},
   "outputs": [
    {
     "name": "stdout",
     "output_type": "stream",
     "text": [
      "\n",
      "matched_data DataFrame:\n",
      "Shape: (50, 26)\n",
      "Columns:\n",
      "- company_name\n",
      "- year_founded\n",
      "- industries\n",
      "- cb_hq\n",
      "- zipcode\n",
      "- description\n",
      "- operating_status\n",
      "- cb_rank\n",
      "- funding_status\n",
      "- funding_date\n",
      "- funding_type\n",
      "- ipo_status\n",
      "- estimated_revenue\n",
      "- num_employees\n",
      "- num_funding_rounds\n",
      "- total_funding\n",
      "- top_investors\n",
      "- num_investors\n",
      "- operating_status_binary\n",
      "- num_employees_cat\n",
      "- clean_name\n",
      "- city\n",
      "- state\n",
      "- country\n",
      "- match_company\n",
      "- match_score\n",
      "Number of unique companies: 50\n",
      "\n",
      "usa_spending DataFrame:\n",
      "Shape: (5289, 32)\n",
      "Columns:\n",
      "- contract_award_unique_key\n",
      "- award_id_piid\n",
      "- total_obligated_amount\n",
      "- current_total_value_of_award\n",
      "- potential_total_value_of_award\n",
      "- award_base_action_date\n",
      "- award_base_action_year\n",
      "- current_end_date\n",
      "- awarding_agency_name\n",
      "- awarding_sub_agency_name\n",
      "- funding_agency_name\n",
      "- funding_sub_agency_name\n",
      "- recipient_name\n",
      "- recipient_parent_name\n",
      "- recipient_city_name\n",
      "- recipient_state_code\n",
      "- recipient_zipcode\n",
      "- primary_place_of_performance_city_name\n",
      "- primary_place_of_performance_state_code\n",
      "- award_type\n",
      "- type_of_contract_pricing\n",
      "- product_or_service_code_description\n",
      "- naics_code\n",
      "- naics_description\n",
      "- number_of_offers_received\n",
      "- organizational_type\n",
      "- clean_recipient_name\n",
      "- clean_recipient_parent_name\n",
      "- is_new_awardee\n",
      "- avg_contract_value\n",
      "- company_name\n",
      "- num_contracts\n",
      "Number of unique companies: 1274\n",
      "\n",
      "crunchbase DataFrame:\n",
      "Shape: (904, 29)\n",
      "Columns:\n",
      "- company_name\n",
      "- year_founded\n",
      "- Industries\n",
      "- hq\n",
      "- zipcode\n",
      "- description\n",
      "- operating_status\n",
      "- cb_rank\n",
      "- funding_status\n",
      "- funding_date\n",
      "- funding_type\n",
      "- ipo_status\n",
      "- estimated_revenue\n",
      "- num_employees\n",
      "- num_funding_rounds\n",
      "- total_funding\n",
      "- top_investors\n",
      "- num_investors\n",
      "- operating_status_binary\n",
      "- num_employees_cat\n",
      "- clean_name\n",
      "- city\n",
      "- state\n",
      "- country\n",
      "- funding_year\n",
      "- time_since_founding\n",
      "- funding_growth_rate\n",
      "- last_funding_date\n",
      "- time_since_last_funding\n",
      "Number of unique companies: 900\n",
      "\n",
      "matched_companies:\n",
      "Number of matched companies: 50\n",
      "First few matched companies: ['VESTIGO AEROSPACE', 'URBAN SKY THEORY', 'TRUSTED SPACE', 'EMERGENT SPACE TECHNOLOGIES', 'REBEL SPACE TECHNOLOGIES']\n",
      "\n",
      "Additional checks:\n",
      "Number of companies in crunchbase that received government funding: 1\n",
      "Number of companies in usa_spending that are in matched_companies: 203\n"
     ]
    }
   ],
   "source": [
    "# function to print DataFrame info\n",
    "def print_df_info(df, name):\n",
    "    print(f\"\\n{name} DataFrame:\")\n",
    "    print(f\"Shape: {df.shape}\")\n",
    "    print(\"Columns:\")\n",
    "    for col in df.columns:\n",
    "        print(f\"- {col}\")\n",
    "    print(f\"Number of unique companies: {df['company_name'].nunique()}\")\n",
    "\n",
    "# check matched_data DataFrame\n",
    "print_df_info(matched_data, \"matched_data\")\n",
    "\n",
    "# check usa_spending DataFrame\n",
    "print_df_info(usa_spending, \"usa_spending\")\n",
    "\n",
    "# check crunchbase DataFrame\n",
    "print_df_info(crunchbase, \"crunchbase\")\n",
    "\n",
    "# check matched_companies list\n",
    "print(\"\\nmatched_companies:\")\n",
    "print(f\"Number of matched companies: {len(matched_companies)}\")\n",
    "print(f\"First few matched companies: {list(matched_companies)[:5]}\")\n",
    "\n",
    "# additional checks for potential target variable\n",
    "print(\"\\nAdditional checks:\")\n",
    "print(f\"Number of companies in crunchbase that received government funding: {sum(crunchbase['company_name'].isin(matched_companies))}\")\n",
    "print(f\"Number of companies in usa_spending that are in matched_companies: {sum(usa_spending['clean_recipient_name'].isin(matched_companies))}\")"
   ]
  },
  {
   "cell_type": "code",
   "execution_count": 42,
   "metadata": {},
   "outputs": [
    {
     "name": "stdout",
     "output_type": "stream",
     "text": [
      "              company_name  year_founded  \\\n",
      "0  Benchmark Space Systems     -1.357365   \n",
      "1                   Radian     -4.007984   \n",
      "2            Space Foundry     -4.007984   \n",
      "3            Lunar Outpost     -1.357365   \n",
      "4     Apogee Semiconductor     -1.357365   \n",
      "\n",
      "                                      cb_hq  zipcode  \\\n",
      "0  South Burlington, Vermont, United States   5401.0   \n",
      "1       Bellevue, Washington, United States  73101.0   \n",
      "2       San Jose, California, United States  93101.0   \n",
      "3           Golden, Colorado, United States  22201.0   \n",
      "4               Plano, Texas, United States  24501.0   \n",
      "\n",
      "                                         description operating_status  \\\n",
      "0  Benchmark Space Systems is an aerospace compan...           Active   \n",
      "1  Radian is building the worlds first truly reu...           Active   \n",
      "2  Space Foundry is an electronic device manufact...           Active   \n",
      "3  Lunar Outpost creates technologies that enable...           Active   \n",
      "4  Apogee Semiconductor provides products and tec...           Active   \n",
      "\n",
      "    cb_rank       funding_status funding_date              funding_type  ...  \\\n",
      "0   18175.0  Early Stage Venture   2024-05-21                  Series B  ...   \n",
      "1   49511.0                 Seed   2022-01-19                      Seed  ...   \n",
      "2  167215.0                    0   2018-06-25                     Grant  ...   \n",
      "3   14543.0                 Seed   2022-05-24                      Seed  ...   \n",
      "4   44231.0                    0   2023-04-19  Venture - Series Unknown  ...   \n",
      "\n",
      "  industries_Digital Marketing, Information Technology, InsurTech, Software, Web Development  \\\n",
      "0                                              False                                           \n",
      "1                                              False                                           \n",
      "2                                              False                                           \n",
      "3                                              False                                           \n",
      "4                                              False                                           \n",
      "\n",
      "   industries_Electronics, Machinery Manufacturing, Manufacturing  \\\n",
      "0                                              False                \n",
      "1                                              False                \n",
      "2                                               True                \n",
      "3                                              False                \n",
      "4                                              False                \n",
      "\n",
      "  industries_Industrial Automation, Robotics, Software, Space Travel  \\\n",
      "0                                              False                   \n",
      "1                                              False                   \n",
      "2                                              False                   \n",
      "3                                              False                   \n",
      "4                                              False                   \n",
      "\n",
      "   industries_Information Technology, Machine Learning, Satellite Communication, Simulation, Software, Space Travel  \\\n",
      "0                                              False                                                                  \n",
      "1                                              False                                                                  \n",
      "2                                              False                                                                  \n",
      "3                                              False                                                                  \n",
      "4                                              False                                                                  \n",
      "\n",
      "   industries_Intelligent Systems, Military, Satellite Communication  \\\n",
      "0                                              False                   \n",
      "1                                              False                   \n",
      "2                                              False                   \n",
      "3                                              False                   \n",
      "4                                              False                   \n",
      "\n",
      "  industries_Internet, Network Security, Satellite Communication, Telecommunications  \\\n",
      "0                                              False                                   \n",
      "1                                              False                                   \n",
      "2                                              False                                   \n",
      "3                                              False                                   \n",
      "4                                              False                                   \n",
      "\n",
      "   industries_Manufacturing, Satellite Communication, Space Travel  \\\n",
      "0                                              False                 \n",
      "1                                              False                 \n",
      "2                                              False                 \n",
      "3                                              False                 \n",
      "4                                              False                 \n",
      "\n",
      "   industries_Manufacturing, Semiconductor, Water  \\\n",
      "0                                           False   \n",
      "1                                           False   \n",
      "2                                           False   \n",
      "3                                           False   \n",
      "4                                           False   \n",
      "\n",
      "  industries_Manufacturing, Space Travel, Telecommunications  \\\n",
      "0                                              False           \n",
      "1                                              False           \n",
      "2                                              False           \n",
      "3                                              False           \n",
      "4                                              False           \n",
      "\n",
      "  industries_Satellite Communication  \n",
      "0                              False  \n",
      "1                              False  \n",
      "2                              False  \n",
      "3                              False  \n",
      "4                              False  \n",
      "\n",
      "[5 rows x 78 columns]\n"
     ]
    }
   ],
   "source": [
    "# create target variable in matched_data\n",
    "matched_data['received_govt_funding'] = 1  # All companies in matched_data received funding\n",
    "\n",
    "# add companies from usa_spending that are not in matched_data\n",
    "usa_spending_companies = usa_spending['clean_recipient_name'].unique()\n",
    "additional_companies = set(usa_spending_companies) - set(matched_data['company_name'])\n",
    "\n",
    "# create a DataFrame for additional companies\n",
    "additional_df = pd.DataFrame({\n",
    "    'company_name': list(additional_companies),\n",
    "    'received_govt_funding': 1\n",
    "})\n",
    "\n",
    "# concatenate matched_data with additional_df\n",
    "matched_data = pd.concat([matched_data, additional_df], ignore_index=True)\n",
    "\n",
    "print(matched_data.head())"
   ]
  },
  {
   "cell_type": "code",
   "execution_count": 43,
   "metadata": {},
   "outputs": [],
   "source": [
    "\n",
    "\n",
    "# select features\n",
    "numerical_features = ['year_founded', 'num_funding_rounds', 'total_funding', 'estimated_revenue']\n",
    "categorical_features = [col for col in matched_data.columns if col.startswith('industries_')]\n",
    "\n",
    "# handle missing values for numerical features\n",
    "for feature in numerical_features:\n",
    "    matched_data[feature] = pd.to_numeric(matched_data[feature], errors='coerce')\n",
    "    matched_data[feature].fillna(matched_data[feature].median(), inplace=True)\n",
    "\n",
    "# handle missing values for categorical features\n",
    "for feature in categorical_features:\n",
    "    matched_data[feature].fillna(matched_data[feature].mode()[0], inplace=True)\n",
    "\n",
    "# encode categorical variables\n",
    "matched_data = pd.get_dummies(matched_data, columns=categorical_features)\n",
    "\n",
    "# combine all features\n",
    "all_features = numerical_features + [col for col in matched_data.columns if col.startswith(tuple(categorical_features))]\n",
    "\n",
    "# normalize numerical features\n",
    "scaler = StandardScaler()\n",
    "matched_data[numerical_features] = scaler.fit_transform(matched_data[numerical_features])\n",
    "\n",
    "# prepare X and y\n",
    "X = matched_data[all_features]\n",
    "y = matched_data['received_govt_funding']\n",
    "\n",
    "# split the data\n",
    "X_train, X_test, y_train, y_test = train_test_split(X, y, test_size=0.2, random_state=42)"
   ]
  },
  {
   "cell_type": "code",
   "execution_count": 44,
   "metadata": {},
   "outputs": [
    {
     "name": "stdout",
     "output_type": "stream",
     "text": [
      "              precision    recall  f1-score   support\n",
      "\n",
      "           1       1.00      1.00      1.00       265\n",
      "\n",
      "    accuracy                           1.00       265\n",
      "   macro avg       1.00      1.00      1.00       265\n",
      "weighted avg       1.00      1.00      1.00       265\n",
      "\n",
      "                                              feature  importance\n",
      "0                                        year_founded         0.0\n",
      "1                                  num_funding_rounds         0.0\n",
      "70  industries_Consumer Electronics, Manufacturing...         0.0\n",
      "69  industries_Artificial Intelligence (AI), Semic...         0.0\n",
      "68  industries_Artificial Intelligence (AI), Semic...         0.0\n",
      "..                                                ...         ...\n",
      "29  industries_Aerospace, Geospatial, Mapping Serv...         0.0\n",
      "28  industries_Aerospace, Geospatial, Mapping Serv...         0.0\n",
      "27  industries_Aerospace, GPS, Information Technol...         0.0\n",
      "26  industries_Aerospace, GPS, Information Technol...         0.0\n",
      "95            industries_Satellite Communication_True         0.0\n",
      "\n",
      "[96 rows x 2 columns]\n"
     ]
    }
   ],
   "source": [
    "# train a Random Forest model\n",
    "rf_model = RandomForestClassifier(class_weight='balanced', random_state=42)\n",
    "rf_model.fit(X_train, y_train)\n",
    "\n",
    "# make predictions\n",
    "y_pred = rf_model.predict(X_test)\n",
    "\n",
    "# print classification report\n",
    "print(classification_report(y_test, y_pred))\n",
    "\n",
    "# feature importance\n",
    "feature_importance = pd.DataFrame({'feature': all_features, 'importance': rf_model.feature_importances_})\n",
    "print(feature_importance.sort_values('importance', ascending=False))"
   ]
  },
  {
   "cell_type": "markdown",
   "metadata": {},
   "source": [
    "This was a good stretch exercise. Our model achieved a perfect F1-score. However, this is unusual and might that task was very easy for the model, and test set is very small or not representative. Surprisingly, all features show zero importance. This is unexpected and could mena, that: nothing meaningful learned, despite the perfect F1-score, there are issues with processing features or training.\n",
    "\n",
    "We can try a simple model to check if we get same results."
   ]
  },
  {
   "cell_type": "markdown",
   "metadata": {},
   "source": [
    "#### Logistic Regression Model"
   ]
  },
  {
   "cell_type": "code",
   "execution_count": null,
   "metadata": {},
   "outputs": [],
   "source": [
    "from sklearn.linear_model import LogisticRegression\n",
    "import statsmodels.api as sm\n",
    "import matplotlib.pyplot as plt\n",
    "import seaborn as sns"
   ]
  },
  {
   "cell_type": "code",
   "execution_count": 48,
   "metadata": {},
   "outputs": [
    {
     "name": "stdout",
     "output_type": "stream",
     "text": [
      "       year_founded  num_funding_rounds  total_funding  estimated_revenue\n",
      "count    904.000000          904.000000   9.040000e+02              904.0\n",
      "mean    2018.359513            1.546460   1.615408e+07                0.0\n",
      "std        2.375623            2.309413   1.232032e+08                0.0\n",
      "min     2015.000000            0.000000  -2.147484e+09                0.0\n",
      "25%     2016.000000            0.000000   0.000000e+00                0.0\n",
      "50%     2018.000000            1.000000   0.000000e+00                0.0\n",
      "75%     2020.000000            2.000000   2.000000e+06                0.0\n",
      "max     2024.000000           15.000000   1.690000e+09                0.0\n",
      "\n",
      "Correlation matrix:\n",
      "                    year_founded  num_funding_rounds  total_funding  \\\n",
      "year_founded            1.000000           -0.118810      -0.009199   \n",
      "num_funding_rounds     -0.118810            1.000000       0.154602   \n",
      "total_funding          -0.009199            0.154602       1.000000   \n",
      "estimated_revenue            NaN                 NaN            NaN   \n",
      "\n",
      "                    estimated_revenue  \n",
      "year_founded                      NaN  \n",
      "num_funding_rounds                NaN  \n",
      "total_funding                     NaN  \n",
      "estimated_revenue                 NaN  \n",
      "\n",
      "Target variable distribution:\n",
      "received_govt_funding\n",
      "0.0    0.943584\n",
      "1.0    0.056416\n",
      "Name: proportion, dtype: float64\n"
     ]
    }
   ],
   "source": [
    "print(X.describe())\n",
    "print(\"\\nCorrelation matrix:\")\n",
    "print(X.corr())\n",
    "\n",
    "print(\"\\nTarget variable distribution:\")\n",
    "print(y.value_counts(normalize=True))"
   ]
  },
  {
   "cell_type": "code",
   "execution_count": null,
   "metadata": {},
   "outputs": [
    {
     "name": "stdout",
     "output_type": "stream",
     "text": [
      "Classification Report:\n",
      "              precision    recall  f1-score   support\n",
      "\n",
      "         0.0       0.96      0.79      0.87       172\n",
      "         1.0       0.10      0.44      0.16         9\n",
      "\n",
      "    accuracy                           0.77       181\n",
      "   macro avg       0.53      0.62      0.52       181\n",
      "weighted avg       0.92      0.77      0.83       181\n",
      "\n",
      "\n",
      "Confusion Matrix:\n",
      "[[136  36]\n",
      " [  5   4]]\n",
      "year_founded: 0.0\n",
      "num_funding_rounds: 0.4857060857849975\n",
      "total_funding: 0.10793751839562876\n"
     ]
    },
    {
     "name": "stderr",
     "output_type": "stream",
     "text": [
      "C:\\Users\\AM\\AppData\\Local\\Temp\\ipykernel_18844\\1527079909.py:10: SettingWithCopyWarning: \n",
      "A value is trying to be set on a copy of a slice from a DataFrame.\n",
      "Try using .loc[row_indexer,col_indexer] = value instead\n",
      "\n",
      "See the caveats in the documentation: https://pandas.pydata.org/pandas-docs/stable/user_guide/indexing.html#returning-a-view-versus-a-copy\n",
      "  X['year_founded'] = X['year_founded'].dt.year\n"
     ]
    }
   ],
   "source": [
    "\n",
    "from sklearn.metrics import classification_report, confusion_matrix\n",
    "from imblearn.over_sampling import SMOTE\n",
    "\n",
    "# prepare the features and target\n",
    "X = all_data[['year_founded', 'num_funding_rounds', 'total_funding']]\n",
    "y = all_data['received_govt_funding']\n",
    "\n",
    "# convert 'year_founded' to numerical if it's in datetime format\n",
    "if pd.api.types.is_datetime64_any_dtype(X['year_founded']):\n",
    "    X['year_founded'] = X['year_founded'].dt.year\n",
    "\n",
    "# handle any remaining non-numeric data\n",
    "X = X.apply(pd.to_numeric, errors='coerce')\n",
    "\n",
    "# fill NaN values with median\n",
    "X = X.fillna(X.median())\n",
    "\n",
    "# split the data\n",
    "X_train, X_test, y_train, y_test = train_test_split(X, y, test_size=0.2, random_state=42)\n",
    "\n",
    "# scale the features\n",
    "scaler = StandardScaler()\n",
    "X_train_scaled = scaler.fit_transform(X_train)\n",
    "X_test_scaled = scaler.transform(X_test)\n",
    "\n",
    "# apply SMOTE to handle class imbalance\n",
    "smote = SMOTE(random_state=42)\n",
    "X_train_resampled, y_train_resampled = smote.fit_resample(X_train_scaled, y_train)\n",
    "\n",
    "# fit logistic regression model\n",
    "log_reg = LogisticRegression(random_state=42, class_weight='balanced')\n",
    "log_reg.fit(X_train_resampled, y_train_resampled)\n",
    "\n",
    "# make predictions\n",
    "y_pred = log_reg.predict(X_test_scaled)\n",
    "\n",
    "# print classification report and confusion matrix\n",
    "print(\"Classification Report:\")\n",
    "print(classification_report(y_test, y_pred))\n",
    "print(\"\\nConfusion Matrix:\")\n",
    "print(confusion_matrix(y_test, y_pred))\n",
    "\n",
    "# print feature coefficients\n",
    "feature_names = ['year_founded', 'num_funding_rounds', 'total_funding']\n",
    "for feature, coef in zip(feature_names, log_reg.coef_[0]):\n",
    "    print(f\"{feature}: {coef}\")"
   ]
  },
  {
   "cell_type": "markdown",
   "metadata": {},
   "source": [
    "**Classification Report**:\n",
    "   - For class 0.0 (companies that didn't receive government funding):\n",
    "     - Precision: 0.96 (96% of predicted non-recipients were correct)\n",
    "     - Recall: 0.79 (79% of actual non-recipients were correctly identified)\n",
    "     - F1-score: 0.87 (harmonic mean of precision and recall)\n",
    "   - For class 1.0 (companies that received government funding):\n",
    "     - Precision: 0.10 (only 10% of predicted recipients were correct)\n",
    "     - Recall: 0.44 (44% of actual recipients were correctly identified)\n",
    "     - F1-score: 0.16 (low due to poor precision)\n",
    "   - Overall accuracy: 0.77 (77% of all predictions were correct)\n",
    "\n",
    "**Confusion Matrix**:\n",
    "   - True Negatives: 136 (correctly predicted non-recipients)\n",
    "   - False Positives: 36 (incorrectly predicted as recipients)\n",
    "   - False Negatives: 5 (incorrectly predicted as non-recipients)\n",
    "   - True Positives: 4 (correctly predicted recipients)\n",
    "\n",
    "**Feature Coefficients**:\n",
    "   - year_founded: 0.0 (no impact on the prediction)\n",
    "   - num_funding_rounds: 0.4857 (positive impact)\n",
    "   - total_funding: 0.1079 (slight positive impact)\n",
    "\n",
    "**Interpretation**:\n",
    "\n",
    "The dataset is heavily imbalanced (172 non-recipients vs. 9 recipients), which affects the model's performance, especially for the minority class.\n",
    "<br>The model is much better at identifying non-recipients than recipients. It has a high false positive rate (36 out of 40 predicted recipients were incorrect). The model's ability to identify actual recipients is poor (only 4 out of 9 were correctly identified).\n",
    "<br>The number of funding rounds is the most influential feature. Total funding has a slight positive impact. Surprisingly, the founding year has no impact on the prediction.\n",
    "\n",
    "The model's current performance is not satisfactory for reliably predicting recipients of government funding. Further refinement and possibly more data are needed to improve its predictive power."
   ]
  },
  {
   "cell_type": "code",
   "execution_count": 51,
   "metadata": {},
   "outputs": [
    {
     "data": {
      "image/png": "[encoded data removed]",
      "text/plain": [
       "<Figure size 1000x800 with 2 Axes>"
      ]
     },
     "metadata": {},
     "output_type": "display_data"
    }
   ],
   "source": [
    "# correlation heatmap\n",
    "\n",
    "plt.figure(figsize=(10, 8))\n",
    "sns.heatmap(X.corr(), annot=True, cmap='coolwarm')\n",
    "plt.title('Correlation Heatmap of Features')\n",
    "plt.show()"
   ]
  },
  {
   "cell_type": "code",
   "execution_count": 52,
   "metadata": {},
   "outputs": [
    {
     "data": {
      "image/png": "[encoded data removed]",
      "text/plain": [
       "<Figure size 1000x600 with 1 Axes>"
      ]
     },
     "metadata": {},
     "output_type": "display_data"
    }
   ],
   "source": [
    "# scatter plot showing total funding vs number of funding rounds\n",
    "plt.figure(figsize=(10, 6))\n",
    "sns.scatterplot(data=X, x='total_funding', y='num_funding_rounds', hue=y)\n",
    "plt.title('Total Funding vs Number of Funding Rounds')\n",
    "plt.xlabel('Total Funding')\n",
    "plt.ylabel('Number of Funding Rounds')\n",
    "plt.xscale('log')\n",
    "plt.show()"
   ]
  },
  {
   "cell_type": "code",
   "execution_count": null,
   "metadata": {},
   "outputs": [
    {
     "data": {
      "image/png": "[encoded data removed]",
      "text/plain": [
       "<Figure size 1000x600 with 1 Axes>"
      ]
     },
     "metadata": {},
     "output_type": "display_data"
    }
   ],
   "source": [
    "# box plot showing number of funding rounds by government funding status\n",
    "plt.figure(figsize=(10, 6))\n",
    "sns.boxplot(x=y, y=X['num_funding_rounds'])\n",
    "plt.title('Number of Funding Rounds by Government Funding Status')\n",
    "plt.xlabel('Received Government Funding')\n",
    "plt.ylabel('Number of Funding Rounds')\n",
    "plt.show()"
   ]
  }
 ],
 "metadata": {
  "kernelspec": {
   "display_name": "new_env",
   "language": "python",
   "name": "python3"
  },
  "language_info": {
   "codemirror_mode": {
    "name": "ipython",
    "version": 3
   },
   "file_extension": ".py",
   "mimetype": "text/x-python",
   "name": "python",
   "nbconvert_exporter": "python",
   "pygments_lexer": "ipython3",
   "version": "3.8.15"
  }
 },
 "nbformat": 4,
 "nbformat_minor": 2
}
