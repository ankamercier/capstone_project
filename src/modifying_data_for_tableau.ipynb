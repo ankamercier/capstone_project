{
 "cells": [
  {
   "cell_type": "code",
   "execution_count": 1,
   "metadata": {},
   "outputs": [],
   "source": [
    "import pandas as pd"
   ]
  },
  {
   "cell_type": "code",
   "execution_count": 2,
   "metadata": {},
   "outputs": [],
   "source": [
    "# load the datasets\n",
    "all_funding = pd.read_csv('C:/Users/AM/OneDrive/Desktop/capstone/data/cleaned/all_funding_for_tableau.csv')\n",
    "crunchbase_data = pd.read_csv('C:/Users/AM/OneDrive/Desktop/capstone/data/cleaned/cleaned_crunchbase_data.csv')\n",
    "usa_spending = pd.read_csv('C:/Users/AM/OneDrive/Desktop/capstone/data/cleaned/cleaned_usa_spending_data.csv')"
   ]
  },
  {
   "cell_type": "code",
   "execution_count": 6,
   "metadata": {},
   "outputs": [],
   "source": [
    "# standardize columns for matching\n",
    "crunchbase_data = crunchbase_data.rename(columns={'clean_name': 's_company_name', 'state': 's_state_code'})\n",
    "usa_spending = usa_spending.rename(columns={'clean_recipient_name': 'tc_company_name', 'recipient_state_code': 'tc_state_code'})"
   ]
  },
  {
   "cell_type": "markdown",
   "metadata": {},
   "source": [
    "Merge dataframes to bring geographic data into all_funding"
   ]
  },
  {
   "cell_type": "code",
   "execution_count": 12,
   "metadata": {},
   "outputs": [
    {
     "name": "stdout",
     "output_type": "stream",
     "text": [
      "all_funding columns: ['year', 'company_name', 'amount', 'category']\n",
      "crunchbase_data columns: ['company_name', 'year_founded', 'Industries', 'hq', 'zipcode', 'description', 'operating_status', 'cb_rank', 'funding_status', 'funding_date', 'funding_type', 'ipo_status', 'estimated_revenue', 'num_employees', 'num_funding_rounds', 'total_funding', 'top_investors', 'num_investors', 'operating_status_binary', 'num_employees_cat', 's_company_name', 'city', 'S_state_code', 'country']\n",
      "usa_spending columns: ['contract_award_unique_key', 'award_id_piid', 'total_obligated_amount', 'current_total_value_of_award', 'potential_total_value_of_award', 'award_base_action_date', 'award_base_action_year', 'current_end_date', 'awarding_agency_name', 'awarding_sub_agency_name', 'funding_agency_name', 'funding_sub_agency_name', 'recipient_name', 'recipient_parent_name', 'recipient_city_name', 'tc_state_code', 'recipient_zipcode', 'primary_place_of_performance_city_name', 'primary_place_of_performance_state_code', 'award_type', 'type_of_contract_pricing', 'product_or_service_code_description', 'naics_code', 'naics_description', 'number_of_offers_received', 'organizational_type', 'tc_company_name', 'clean_recipient_parent_name']\n"
     ]
    }
   ],
   "source": [
    "print(\"all_funding columns:\", all_funding.columns.tolist())\n",
    "print(\"crunchbase_data columns:\", crunchbase_data.columns.tolist())\n",
    "print(\"usa_spending columns:\", usa_spending.columns.tolist())"
   ]
  },
  {
   "cell_type": "code",
   "execution_count": 13,
   "metadata": {},
   "outputs": [],
   "source": [
    "# rename columns for consistency\n",
    "crunchbase_data = crunchbase_data.rename(columns={'S_state_code': 's_state_code'})\n",
    "usa_spending = usa_spending.rename(columns={'tc_company_name': 'company_name', 'tc_state_code': 'state_code'})"
   ]
  },
  {
   "cell_type": "code",
   "execution_count": 14,
   "metadata": {},
   "outputs": [],
   "source": [
    "# merge all_funding with crunchbase_data\n",
    "all_funding = all_funding.merge(\n",
    "    crunchbase_data[['s_company_name', 's_state_code', 'year_founded']], \n",
    "    left_on=['company_name', 'year'], \n",
    "    right_on=['s_company_name', 'year_founded'], \n",
    "    how='left'\n",
    ")"
   ]
  },
  {
   "cell_type": "code",
   "execution_count": 15,
   "metadata": {},
   "outputs": [],
   "source": [
    "# merge with usa_spending\n",
    "all_funding = all_funding.merge(\n",
    "    usa_spending[['company_name', 'state_code', 'award_base_action_year']], \n",
    "    left_on=['company_name', 'year'], \n",
    "    right_on=['company_name', 'award_base_action_year'], \n",
    "    how='left'\n",
    ")"
   ]
  },
  {
   "cell_type": "code",
   "execution_count": 16,
   "metadata": {},
   "outputs": [
    {
     "name": "stdout",
     "output_type": "stream",
     "text": [
      "   year         company_name      amount                 category state_code\n",
      "0  2020  3D ARRAY TECHNOLOGY   124994.00  Traditional Contractors         CT\n",
      "1  2020             3DSENSIR   124536.00  Traditional Contractors         CA\n",
      "2  2021         3I3SIGNATURE        0.00                 Startups    Florida\n",
      "3  2016    4D TECH SOLUTIONS  3998527.52  Traditional Contractors         WV\n",
      "4  2018    4D TECH SOLUTIONS   746352.00  Traditional Contractors         WV\n",
      "92\n",
      "538\n"
     ]
    }
   ],
   "source": [
    "# create a new state_code column\n",
    "all_funding['state_code'] = all_funding['s_state_code'].fillna(all_funding['state_code'])\n",
    "\n",
    "# drop unnecessary columns\n",
    "all_funding = all_funding.drop(['s_company_name', 'year_founded', 's_state_code', 'award_base_action_year'], axis=1)\n",
    "\n",
    "# check the result\n",
    "print(all_funding.head())\n",
    "print(all_funding['state_code'].nunique())\n",
    "print(all_funding['state_code'].isnull().sum())"
   ]
  },
  {
   "cell_type": "code",
   "execution_count": 20,
   "metadata": {},
   "outputs": [],
   "source": [
    "def standardize_state_codes(df):\n",
    "    # dictionary to map full state names to codes\n",
    "    state_to_code = {\n",
    "        \"Alabama\": \"AL\", \"Alaska\": \"AK\", \"Arizona\": \"AZ\", \"Arkansas\": \"AR\", \"California\": \"CA\",\n",
    "        \"Colorado\": \"CO\", \"Connecticut\": \"CT\", \"Delaware\": \"DE\", \"Florida\": \"FL\", \"Georgia\": \"GA\",\n",
    "        \"Hawaii\": \"HI\", \"Idaho\": \"ID\", \"Illinois\": \"IL\", \"Indiana\": \"IN\", \"Iowa\": \"IA\",\n",
    "        \"Kansas\": \"KS\", \"Kentucky\": \"KY\", \"Louisiana\": \"LA\", \"Maine\": \"ME\", \"Maryland\": \"MD\",\n",
    "        \"Massachusetts\": \"MA\", \"Michigan\": \"MI\", \"Minnesota\": \"MN\", \"Mississippi\": \"MS\",\n",
    "        \"Missouri\": \"MO\", \"Montana\": \"MT\", \"Nebraska\": \"NE\", \"Nevada\": \"NV\", \"New Hampshire\": \"NH\",\n",
    "        \"New Jersey\": \"NJ\", \"New Mexico\": \"NM\", \"New York\": \"NY\", \"North Carolina\": \"NC\",\n",
    "        \"North Dakota\": \"ND\", \"Ohio\": \"OH\", \"Oklahoma\": \"OK\", \"Oregon\": \"OR\", \"Pennsylvania\": \"PA\",\n",
    "        \"Rhode Island\": \"RI\", \"South Carolina\": \"SC\", \"South Dakota\": \"SD\", \"Tennessee\": \"TN\",\n",
    "        \"Texas\": \"TX\", \"Utah\": \"UT\", \"Vermont\": \"VT\", \"Virginia\": \"VA\", \"Washington\": \"WA\",\n",
    "        \"West Virginia\": \"WV\", \"Wisconsin\": \"WI\", \"Wyoming\": \"WY\"\n",
    "    }\n",
    "    \n",
    "    # function to replace full state name with code\n",
    "    def replace_state(state):\n",
    "        if state in state_to_code:\n",
    "            return state_to_code[state]\n",
    "        return state  # If it's already a code or not found, return as is\n",
    "    \n",
    "    # apply the replacement function to the state_code column\n",
    "    df['state_code'] = df['state_code'].apply(replace_state)\n",
    "    \n",
    "    return df"
   ]
  },
  {
   "cell_type": "code",
   "execution_count": 21,
   "metadata": {},
   "outputs": [
    {
     "name": "stdout",
     "output_type": "stream",
     "text": [
      "   year         company_name      amount                 category state_code\n",
      "0  2020  3D ARRAY TECHNOLOGY   124994.00  Traditional Contractors         CT\n",
      "1  2020             3DSENSIR   124536.00  Traditional Contractors         CA\n",
      "2  2021         3I3SIGNATURE        0.00                 Startups         FL\n",
      "3  2016    4D TECH SOLUTIONS  3998527.52  Traditional Contractors         WV\n",
      "4  2018    4D TECH SOLUTIONS   746352.00  Traditional Contractors         WV\n",
      "52\n",
      "538\n"
     ]
    }
   ],
   "source": [
    "# apply the function to your dataframe\n",
    "all_funding = standardize_state_codes(all_funding)\n",
    "\n",
    "# check the result\n",
    "print(all_funding.head())\n",
    "print(all_funding['state_code'].nunique())\n",
    "print(all_funding['state_code'].isnull().sum())"
   ]
  },
  {
   "cell_type": "code",
   "execution_count": 23,
   "metadata": {},
   "outputs": [],
   "source": [
    "# save the updated dataframe\n",
    "all_funding.to_csv('C:/Users/AM/OneDrive/Desktop/capstone/data/cleaned/updated_all_funding_for_tableau.csv', index=False)"
   ]
  },
  {
   "cell_type": "code",
   "execution_count": 24,
   "metadata": {},
   "outputs": [
    {
     "name": "stdout",
     "output_type": "stream",
     "text": [
      "File updated successfully!\n"
     ]
    }
   ],
   "source": [
    "import os\n",
    "import shutil\n",
    "\n",
    "# define file paths\n",
    "old_file = 'C:/Users/AM/OneDrive/Desktop/capstone/data/cleaned/all_funding_for_tableau.csv'\n",
    "new_file = 'C:/Users/AM/OneDrive/Desktop/capstone/data/cleaned/updated_all_funding_for_tableau.csv'\n",
    "\n",
    "# remove the old file\n",
    "if os.path.exists(old_file):\n",
    "    os.remove(old_file)\n",
    "\n",
    "# rename the new file to the old file's name\n",
    "os.rename(new_file, old_file)\n",
    "\n",
    "print(\"File updated successfully!\")"
   ]
  }
 ],
 "metadata": {
  "kernelspec": {
   "display_name": "new_env",
   "language": "python",
   "name": "python3"
  },
  "language_info": {
   "codemirror_mode": {
    "name": "ipython",
    "version": 3
   },
   "file_extension": ".py",
   "mimetype": "text/x-python",
   "name": "python",
   "nbconvert_exporter": "python",
   "pygments_lexer": "ipython3",
   "version": "3.8.15"
  }
 },
 "nbformat": 4,
 "nbformat_minor": 2
}
